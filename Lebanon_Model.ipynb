{
 "cells": [
  {
   "cell_type": "code",
   "execution_count": 1,
   "metadata": {},
   "outputs": [
    {
     "name": "stdout",
     "output_type": "stream",
     "text": [
      "Populating the interactive namespace from numpy and matplotlib\n"
     ]
    },
    {
     "name": "stderr",
     "output_type": "stream",
     "text": [
      "C:\\Users\\Umar Ibn Ali\\Anaconda3\\lib\\site-packages\\IPython\\core\\magics\\pylab.py:160: UserWarning: pylab import has clobbered these variables: ['pylab']\n",
      "`%matplotlib` prevents importing * from pylab and numpy\n",
      "  \"\\n`%matplotlib` prevents importing * from pylab and numpy\"\n"
     ]
    }
   ],
   "source": [
    "#Load necessary libraries\n",
    "import pylab\n",
    "%pylab inline\n",
    "import numpy as np\n",
    "import pandas as pd\n",
    "import matplotlib as plt\n",
    "from sklearn.linear_model import LinearRegression\n",
    "from sklearn.model_selection import train_test_split\n",
    "from sklearn import metrics\n"
   ]
  },
  {
   "cell_type": "code",
   "execution_count": 2,
   "metadata": {
    "collapsed": true
   },
   "outputs": [],
   "source": [
    "#load dataset in pandas\n",
    "df= pd.read_csv(\"/Users/Umar Ibn Ali/Desktop/FYP/Model/Lebanon_dataset.csv\")"
   ]
  },
  {
   "cell_type": "code",
   "execution_count": 3,
   "metadata": {},
   "outputs": [
    {
     "data": {
      "text/html": [
       "<div>\n",
       "<style>\n",
       "    .dataframe thead tr:only-child th {\n",
       "        text-align: right;\n",
       "    }\n",
       "\n",
       "    .dataframe thead th {\n",
       "        text-align: left;\n",
       "    }\n",
       "\n",
       "    .dataframe tbody tr th {\n",
       "        vertical-align: top;\n",
       "    }\n",
       "</style>\n",
       "<table border=\"1\" class=\"dataframe\">\n",
       "  <thead>\n",
       "    <tr style=\"text-align: right;\">\n",
       "      <th></th>\n",
       "      <th>Year</th>\n",
       "      <th>GPI</th>\n",
       "      <th>GDP</th>\n",
       "      <th>No of country</th>\n",
       "      <th>Density</th>\n",
       "      <th>Population</th>\n",
       "    </tr>\n",
       "  </thead>\n",
       "  <tbody>\n",
       "    <tr>\n",
       "      <th>0</th>\n",
       "      <td>1991</td>\n",
       "      <td>NaN</td>\n",
       "      <td>1617</td>\n",
       "      <td>4</td>\n",
       "      <td>269.1</td>\n",
       "      <td>5223</td>\n",
       "    </tr>\n",
       "    <tr>\n",
       "      <th>1</th>\n",
       "      <td>1992</td>\n",
       "      <td>NaN</td>\n",
       "      <td>1965</td>\n",
       "      <td>5</td>\n",
       "      <td>275.8</td>\n",
       "      <td>6012</td>\n",
       "    </tr>\n",
       "    <tr>\n",
       "      <th>2</th>\n",
       "      <td>1993</td>\n",
       "      <td>NaN</td>\n",
       "      <td>2598</td>\n",
       "      <td>4</td>\n",
       "      <td>283.6</td>\n",
       "      <td>637</td>\n",
       "    </tr>\n",
       "    <tr>\n",
       "      <th>3</th>\n",
       "      <td>1994</td>\n",
       "      <td>NaN</td>\n",
       "      <td>3062</td>\n",
       "      <td>5</td>\n",
       "      <td>290.8</td>\n",
       "      <td>1359</td>\n",
       "    </tr>\n",
       "    <tr>\n",
       "      <th>4</th>\n",
       "      <td>1995</td>\n",
       "      <td>NaN</td>\n",
       "      <td>3665</td>\n",
       "      <td>5</td>\n",
       "      <td>296.5</td>\n",
       "      <td>1867</td>\n",
       "    </tr>\n",
       "  </tbody>\n",
       "</table>\n",
       "</div>"
      ],
      "text/plain": [
       "   Year  GPI   GDP  No of country  Density  Population\n",
       "0  1991  NaN  1617              4    269.1        5223\n",
       "1  1992  NaN  1965              5    275.8        6012\n",
       "2  1993  NaN  2598              4    283.6         637\n",
       "3  1994  NaN  3062              5    290.8        1359\n",
       "4  1995  NaN  3665              5    296.5        1867"
      ]
     },
     "execution_count": 3,
     "metadata": {},
     "output_type": "execute_result"
    }
   ],
   "source": [
    "#check dataset\n",
    "df.head()"
   ]
  },
  {
   "cell_type": "code",
   "execution_count": 4,
   "metadata": {},
   "outputs": [
    {
     "data": {
      "text/html": [
       "<div>\n",
       "<style>\n",
       "    .dataframe thead tr:only-child th {\n",
       "        text-align: right;\n",
       "    }\n",
       "\n",
       "    .dataframe thead th {\n",
       "        text-align: left;\n",
       "    }\n",
       "\n",
       "    .dataframe tbody tr th {\n",
       "        vertical-align: top;\n",
       "    }\n",
       "</style>\n",
       "<table border=\"1\" class=\"dataframe\">\n",
       "  <thead>\n",
       "    <tr style=\"text-align: right;\">\n",
       "      <th></th>\n",
       "      <th>Year</th>\n",
       "      <th>GPI</th>\n",
       "      <th>GDP</th>\n",
       "      <th>No of country</th>\n",
       "      <th>Density</th>\n",
       "      <th>Population</th>\n",
       "    </tr>\n",
       "  </thead>\n",
       "  <tbody>\n",
       "    <tr>\n",
       "      <th>count</th>\n",
       "      <td>26.000000</td>\n",
       "      <td>9.000000</td>\n",
       "      <td>26.000000</td>\n",
       "      <td>26.000000</td>\n",
       "      <td>26.000000</td>\n",
       "      <td>2.600000e+01</td>\n",
       "    </tr>\n",
       "    <tr>\n",
       "      <th>mean</th>\n",
       "      <td>2003.500000</td>\n",
       "      <td>2.615667</td>\n",
       "      <td>6306.307692</td>\n",
       "      <td>17.153846</td>\n",
       "      <td>382.003846</td>\n",
       "      <td>1.714940e+05</td>\n",
       "    </tr>\n",
       "    <tr>\n",
       "      <th>std</th>\n",
       "      <td>7.648529</td>\n",
       "      <td>0.078099</td>\n",
       "      <td>2848.971418</td>\n",
       "      <td>9.946627</td>\n",
       "      <td>94.649693</td>\n",
       "      <td>3.741637e+05</td>\n",
       "    </tr>\n",
       "    <tr>\n",
       "      <th>min</th>\n",
       "      <td>1991.000000</td>\n",
       "      <td>2.459000</td>\n",
       "      <td>1617.000000</td>\n",
       "      <td>4.000000</td>\n",
       "      <td>269.100000</td>\n",
       "      <td>6.370000e+02</td>\n",
       "    </tr>\n",
       "    <tr>\n",
       "      <th>25%</th>\n",
       "      <td>1997.250000</td>\n",
       "      <td>2.597000</td>\n",
       "      <td>5128.250000</td>\n",
       "      <td>5.750000</td>\n",
       "      <td>302.825000</td>\n",
       "      <td>2.559500e+03</td>\n",
       "    </tr>\n",
       "    <tr>\n",
       "      <th>50%</th>\n",
       "      <td>2003.500000</td>\n",
       "      <td>2.620000</td>\n",
       "      <td>5488.500000</td>\n",
       "      <td>21.000000</td>\n",
       "      <td>369.700000</td>\n",
       "      <td>4.697500e+03</td>\n",
       "    </tr>\n",
       "    <tr>\n",
       "      <th>75%</th>\n",
       "      <td>2009.750000</td>\n",
       "      <td>2.639000</td>\n",
       "      <td>8726.000000</td>\n",
       "      <td>25.750000</td>\n",
       "      <td>420.225000</td>\n",
       "      <td>5.039400e+04</td>\n",
       "    </tr>\n",
       "    <tr>\n",
       "      <th>max</th>\n",
       "      <td>2016.000000</td>\n",
       "      <td>2.752000</td>\n",
       "      <td>11295.000000</td>\n",
       "      <td>33.000000</td>\n",
       "      <td>587.200000</td>\n",
       "      <td>1.154050e+06</td>\n",
       "    </tr>\n",
       "  </tbody>\n",
       "</table>\n",
       "</div>"
      ],
      "text/plain": [
       "              Year       GPI           GDP  No of country     Density  \\\n",
       "count    26.000000  9.000000     26.000000      26.000000   26.000000   \n",
       "mean   2003.500000  2.615667   6306.307692      17.153846  382.003846   \n",
       "std       7.648529  0.078099   2848.971418       9.946627   94.649693   \n",
       "min    1991.000000  2.459000   1617.000000       4.000000  269.100000   \n",
       "25%    1997.250000  2.597000   5128.250000       5.750000  302.825000   \n",
       "50%    2003.500000  2.620000   5488.500000      21.000000  369.700000   \n",
       "75%    2009.750000  2.639000   8726.000000      25.750000  420.225000   \n",
       "max    2016.000000  2.752000  11295.000000      33.000000  587.200000   \n",
       "\n",
       "         Population  \n",
       "count  2.600000e+01  \n",
       "mean   1.714940e+05  \n",
       "std    3.741637e+05  \n",
       "min    6.370000e+02  \n",
       "25%    2.559500e+03  \n",
       "50%    4.697500e+03  \n",
       "75%    5.039400e+04  \n",
       "max    1.154050e+06  "
      ]
     },
     "execution_count": 4,
     "metadata": {},
     "output_type": "execute_result"
    }
   ],
   "source": [
    "df.describe()"
   ]
  },
  {
   "cell_type": "code",
   "execution_count": 5,
   "metadata": {
    "collapsed": true
   },
   "outputs": [],
   "source": [
    "#fill column with missing values\n",
    "df['GPI'].fillna(mean(df.GPI),inplace=True)\n"
   ]
  },
  {
   "cell_type": "code",
   "execution_count": 6,
   "metadata": {},
   "outputs": [
    {
     "data": {
      "text/plain": [
       "Year             0\n",
       "GPI              0\n",
       "GDP              0\n",
       "No of country    0\n",
       "Density          0\n",
       "Population       0\n",
       "dtype: int64"
      ]
     },
     "execution_count": 6,
     "metadata": {},
     "output_type": "execute_result"
    }
   ],
   "source": [
    "#check the columns with missing values\n",
    "df.apply(lambda x: sum(x.isnull()),axis=0)"
   ]
  },
  {
   "cell_type": "code",
   "execution_count": 7,
   "metadata": {},
   "outputs": [
    {
     "data": {
      "text/plain": [
       "<matplotlib.axes._subplots.AxesSubplot at 0x1cce7b254e0>"
      ]
     },
     "execution_count": 7,
     "metadata": {},
     "output_type": "execute_result"
    },
    {
     "data": {
      "image/png": "[encoded data removed]",
      "text/plain": [
       "<matplotlib.figure.Figure at 0x1cce7ad2710>"
      ]
     },
     "metadata": {},
     "output_type": "display_data"
    }
   ],
   "source": [
    "#check population histogram\n",
    "df['Population'].hist(bins=25)"
   ]
  },
  {
   "cell_type": "code",
   "execution_count": 8,
   "metadata": {},
   "outputs": [
    {
     "data": {
      "image/png": "[encoded data removed]",
      "text/plain": [
       "<matplotlib.figure.Figure at 0x1cce7de1940>"
      ]
     },
     "metadata": {},
     "output_type": "display_data"
    }
   ],
   "source": [
    "#check relationship between GDP and Population\n",
    "import matplotlib.pyplot as plt\n",
    "plt.scatter(df['GDP'], df['Population'])\n",
    "plt.show() "
   ]
  },
  {
   "cell_type": "code",
   "execution_count": 9,
   "metadata": {},
   "outputs": [
    {
     "data": {
      "image/png": "[encoded data removed]",
      "text/plain": [
       "<matplotlib.figure.Figure at 0x1cce7ea6ba8>"
      ]
     },
     "metadata": {},
     "output_type": "display_data"
    }
   ],
   "source": [
    "#check relationship between Density and Population\n",
    "import matplotlib.pyplot as plt\n",
    "plt.scatter(df['Density'], df['Population'])\n",
    "plt.show() "
   ]
  },
  {
   "cell_type": "code",
   "execution_count": 10,
   "metadata": {},
   "outputs": [
    {
     "data": {
      "image/png": "[encoded data removed]",
      "text/plain": [
       "<matplotlib.figure.Figure at 0x1cce7eabda0>"
      ]
     },
     "metadata": {},
     "output_type": "display_data"
    }
   ],
   "source": [
    "#check relationship between No of country and Population\n",
    "plt.scatter(df['No of country'], df['Population'])\n",
    "plt.show() "
   ]
  },
  {
   "cell_type": "code",
   "execution_count": 11,
   "metadata": {},
   "outputs": [
    {
     "data": {
      "image/png": "[encoded data removed]",
      "text/plain": [
       "<matplotlib.figure.Figure at 0x1cce7e67d68>"
      ]
     },
     "metadata": {},
     "output_type": "display_data"
    }
   ],
   "source": [
    "#check relationship between GPI and Population\n",
    "plt.scatter(df['GPI'], df['Population'])\n",
    "plt.show() "
   ]
  },
  {
   "cell_type": "code",
   "execution_count": 12,
   "metadata": {},
   "outputs": [
    {
     "name": "stdout",
     "output_type": "stream",
     "text": [
      "Intercept:  -435058.216113\n",
      "Coefficient:  [ 96.18183027]\n",
      "R squared value:  0.536338616345\n"
     ]
    }
   ],
   "source": [
    "#check GDP and Population linear relationship\n",
    "feature_cols = ['GDP']\n",
    "X = df[feature_cols]\n",
    "y = df.Population\n",
    "lm = LinearRegression()\n",
    "lm.fit(X, y)\n",
    "\n",
    "# print the coefficients\n",
    "print(\"Intercept: \",lm.intercept_)\n",
    "print(\"Coefficient: \",lm.coef_)\n",
    "\n",
    "#check R squared value\n",
    "print(\"R squared value: \",lm.score(X, y))"
   ]
  },
  {
   "cell_type": "code",
   "execution_count": 13,
   "metadata": {},
   "outputs": [
    {
     "name": "stdout",
     "output_type": "stream",
     "text": [
      "Intercept:  -1076431.25305\n",
      "Coefficient:  [ 3266.78714262]\n",
      "R squared value:  0.682899670198\n"
     ]
    }
   ],
   "source": [
    "#check Density and Population linear relationship\n",
    "feature_cols = ['Density']\n",
    "X = df[feature_cols]\n",
    "y = df.Population\n",
    "lm = LinearRegression()\n",
    "lm.fit(X, y)\n",
    "\n",
    "# print the coefficients\n",
    "print(\"Intercept: \",lm.intercept_)\n",
    "print(\"Coefficient: \",lm.coef_)\n",
    "\n",
    "#check R squared value\n",
    "print(\"R squared value: \",lm.score(X, y))"
   ]
  },
  {
   "cell_type": "code",
   "execution_count": 14,
   "metadata": {},
   "outputs": [
    {
     "name": "stdout",
     "output_type": "stream",
     "text": [
      "Intercept:  -59462.0524352\n",
      "Coefficient:  [ 13463.80574734]\n",
      "R squared value:  0.128104424307\n"
     ]
    }
   ],
   "source": [
    "#check No of Country and Population linear relationship\n",
    "feature_cols = ['No of country']\n",
    "X = df[feature_cols]\n",
    "y = df.Population\n",
    "lm = LinearRegression()\n",
    "lm.fit(X, y)\n",
    "\n",
    "# print the coefficients\n",
    "print(\"Intercept: \",lm.intercept_)\n",
    "print(\"Coefficient: \",lm.coef_)\n",
    "\n",
    "#check R squared value\n",
    "print(\"R squared value: \",lm.score(X, y))"
   ]
  },
  {
   "cell_type": "code",
   "execution_count": 15,
   "metadata": {},
   "outputs": [
    {
     "name": "stdout",
     "output_type": "stream",
     "text": [
      "Intercept:  -5050240.12184\n",
      "Coefficient:  [ 1996330.10902533]\n",
      "R squared value:  0.0555630063712\n"
     ]
    }
   ],
   "source": [
    "#check GPI and Population linear relationship\n",
    "feature_cols = ['GPI']\n",
    "X = df[feature_cols]\n",
    "y = df.Population\n",
    "lm = LinearRegression()\n",
    "lm.fit(X, y)\n",
    "\n",
    "# print the coefficients\n",
    "print(\"Intercept: \",lm.intercept_)\n",
    "print(\"Coefficient: \",lm.coef_)\n",
    "\n",
    "#check R squared value\n",
    "print(\"R squared value: \",lm.score(X, y))"
   ]
  },
  {
   "cell_type": "code",
   "execution_count": 16,
   "metadata": {},
   "outputs": [
    {
     "name": "stdout",
     "output_type": "stream",
     "text": [
      "RMSE Score:  175438.413994\n",
      "MAE Score:  139808.706605\n",
      "MSE Score:  30778637104.9\n",
      "R squared value:  0.84242051418\n"
     ]
    }
   ],
   "source": [
    "# include all variables to build a model\n",
    "X = df[['GDP', 'Density', 'No of country','GPI']]\n",
    "y = df.Population\n",
    "\n",
    "# Split data\n",
    "X_train, X_test, y_train, y_test = train_test_split(X, y,test_size = 0.25, random_state=0)\n",
    "\n",
    "# Instantiate model\n",
    "lm2 = LinearRegression()\n",
    "\n",
    "# Fit Model\n",
    "lm2.fit(X_train, y_train)\n",
    "\n",
    "# Predict\n",
    "y_pred = lm2.predict(X_test)\n",
    "\n",
    "# RMSE-Root Mean Squared Error\n",
    "print(\"RMSE Score: \",np.sqrt(metrics.mean_squared_error(y_test, y_pred)))\n",
    "\n",
    "#MAE is the mean of the absolute value of the errors:\n",
    "print(\"MAE Score: \",metrics.mean_absolute_error(y_test, y_pred))\n",
    "\n",
    "#MSE is the mean of the squared errors:\n",
    "print(\"MSE Score: \",metrics.mean_squared_error(y_test, y_pred))\n",
    "\n",
    "#check R squared value\n",
    "print(\"R squared value: \",lm2.score(X,y))"
   ]
  },
  {
   "cell_type": "code",
   "execution_count": 17,
   "metadata": {},
   "outputs": [
    {
     "name": "stdout",
     "output_type": "stream",
     "text": [
      "RMSE Score:  210678.713303\n",
      "MAE Score:  184647.371981\n",
      "MSE Score:  44385520239.2\n",
      "R squared value:  0.703443237618\n"
     ]
    }
   ],
   "source": [
    "# include all variables to build a model\n",
    "X = df[['GDP', 'Density']]\n",
    "y = df.Population\n",
    "\n",
    "# Split data\n",
    "X_train, X_test, y_train, y_test = train_test_split(X, y,test_size = 0.25, random_state=0)\n",
    "\n",
    "# Instantiate model\n",
    "lm2 = LinearRegression()\n",
    "\n",
    "# Fit Model\n",
    "lm2.fit(X_train, y_train)\n",
    "\n",
    "# Predict\n",
    "y_pred = lm2.predict(X_test)\n",
    "\n",
    "# RMSE-Root Mean Squared Error\n",
    "print(\"RMSE Score: \",np.sqrt(metrics.mean_squared_error(y_test, y_pred)))\n",
    "\n",
    "#MAE is the mean of the absolute value of the errors:\n",
    "print(\"MAE Score: \",metrics.mean_absolute_error(y_test, y_pred))\n",
    "\n",
    "#MSE is the mean of the squared errors:\n",
    "print(\"MSE Score: \",metrics.mean_squared_error(y_test, y_pred))\n",
    "\n",
    "#check R squared value\n",
    "print(\"R squared value: \",lm2.score(X,y))"
   ]
  },
  {
   "cell_type": "code",
   "execution_count": 18,
   "metadata": {},
   "outputs": [
    {
     "name": "stdout",
     "output_type": "stream",
     "text": [
      "RMSE Score:  177303.674585\n",
      "MAE Score:  130713.27212\n",
      "MSE Score:  31436593021.3\n",
      "R squared value:  0.836117069688\n"
     ]
    }
   ],
   "source": [
    "# include all variables to build a model\n",
    "X = df[['GDP', 'Density', 'No of country']]\n",
    "y = df.Population\n",
    "\n",
    "# Split data\n",
    "X_train, X_test, y_train, y_test = train_test_split(X, y,test_size = 0.25, random_state=0)\n",
    "\n",
    "# Instantiate model\n",
    "lm2 = LinearRegression()\n",
    "\n",
    "# Fit Model\n",
    "lm2.fit(X_train, y_train)\n",
    "\n",
    "# Predict\n",
    "y_pred = lm2.predict(X_test)\n",
    "\n",
    "# RMSE-Root Mean Squared Error\n",
    "print(\"RMSE Score: \",np.sqrt(metrics.mean_squared_error(y_test, y_pred)))\n",
    "\n",
    "#MAE is the mean of the absolute value of the errors:\n",
    "print(\"MAE Score: \",metrics.mean_absolute_error(y_test, y_pred))\n",
    "\n",
    "#MSE is the mean of the squared errors:\n",
    "print(\"MSE Score: \",metrics.mean_squared_error(y_test, y_pred))\n",
    "\n",
    "#check R squared value\n",
    "print(\"R squared value: \",lm2.score(X,y))"
   ]
  },
  {
   "cell_type": "code",
   "execution_count": 19,
   "metadata": {},
   "outputs": [
    {
     "name": "stdout",
     "output_type": "stream",
     "text": [
      "R squared value:  0.91709166366\n",
      "Predicted GDP for year:  2017 [[ 10983.97235577]]\n",
      "Predicted GDP for year:  2018 [[ 11326.78104968]]\n",
      "Predicted GDP for year:  2019 [[ 11669.58974359]]\n",
      "Predicted GDP for year:  2020 [[ 12012.3984375]]\n",
      "Predicted GDP for year:  2021 [[ 12355.20713141]]\n",
      "Predicted GDP for year:  2022 [[ 12698.01582532]]\n"
     ]
    },
    {
     "data": {
      "text/plain": [
       "array([[ 10641.16366186]])"
      ]
     },
     "execution_count": 19,
     "metadata": {},
     "output_type": "execute_result"
    }
   ],
   "source": [
    "#predict the GDP for future using a linear model with Year\n",
    "from sklearn import linear_model\n",
    "X = df[['Year']]\n",
    "y = df[['GDP']]\n",
    "\n",
    "# Split data\n",
    "X_train, X_test, y_train, y_test = train_test_split(X, y,test_size = 0.33, random_state=42)\n",
    "\n",
    "# Instantiate model\n",
    "lm2 = LinearRegression()\n",
    "\n",
    "# Fit Model\n",
    "lm2.fit(X_train, y_train)\n",
    "\n",
    "#R squared value\n",
    "print(\"R squared value: \",lm2.score(X,y))\n",
    "\n",
    "# Predict\n",
    "pred_Den = [0,0,0,0,0,0]\n",
    "for i in range (0,6):\n",
    "    pred_Den[i] = lm2.predict(2017+i)\n",
    "\n",
    "for i in range(0,6):\n",
    "    print(\"Predicted GDP for year: \",(2017+i),pred_Den[i])\n",
    "lm2.predict(2016)      "
   ]
  },
  {
   "cell_type": "code",
   "execution_count": 20,
   "metadata": {},
   "outputs": [
    {
     "name": "stdout",
     "output_type": "stream",
     "text": [
      "R squared value:  0.911649228373\n",
      "Predicted Density for year:  2017 [[ 548.468218]]\n",
      "Predicted Density for year:  2018 [[ 560.67128008]]\n",
      "Predicted Density for year:  2019 [[ 572.87434217]]\n",
      "Predicted Density for year:  2020 [[ 585.07740425]]\n",
      "Predicted Density for year:  2021 [[ 597.28046634]]\n",
      "Predicted Density for year:  2022 [[ 609.48352842]]\n"
     ]
    },
    {
     "data": {
      "text/plain": [
       "array([[ 536.26515591]])"
      ]
     },
     "execution_count": 20,
     "metadata": {},
     "output_type": "execute_result"
    }
   ],
   "source": [
    "#predict the Density for future using a linear model with Year\n",
    "from sklearn import linear_model\n",
    "X = df[['Year']]\n",
    "y = df[['Density']]\n",
    "\n",
    "# Split data\n",
    "X_train, X_test, y_train, y_test = train_test_split(X, y,test_size = 0.25, random_state=0)\n",
    "\n",
    "# Instantiate model\n",
    "lm2 = LinearRegression()\n",
    "\n",
    "# Fit Model\n",
    "lm2.fit(X_train, y_train)\n",
    "\n",
    "#R squared value\n",
    "print(\"R squared value: \",lm2.score(X,y))\n",
    "\n",
    "# Predict\n",
    "pred_Den = [0,0,0,0,0,0]\n",
    "for i in range (0,6):\n",
    "    pred_Den[i] = lm2.predict(2017+i)\n",
    "\n",
    "for i in range(0,6):\n",
    "    print(\"Predicted Density for year: \",(2017+i),pred_Den[i])\n",
    "lm2.predict(2016)      "
   ]
  },
  {
   "cell_type": "code",
   "execution_count": 21,
   "metadata": {},
   "outputs": [
    {
     "name": "stdout",
     "output_type": "stream",
     "text": [
      "R squared value:  0.737391976315\n",
      "Predicted No of country for year:  2017 [[ 32.76477198]]\n",
      "Predicted No of country for year:  2018 [[ 33.9091207]]\n",
      "Predicted No of country for year:  2019 [[ 35.05346943]]\n",
      "Predicted No of country for year:  2020 [[ 36.19781815]]\n",
      "Predicted No of country for year:  2021 [[ 37.34216687]]\n",
      "Predicted No of country for year:  2022 [[ 38.48651559]]\n"
     ]
    },
    {
     "data": {
      "text/plain": [
       "array([[ 31.62042326]])"
      ]
     },
     "execution_count": 21,
     "metadata": {},
     "output_type": "execute_result"
    }
   ],
   "source": [
    "#predict the No of Country for future using a linear model with Year\n",
    "from sklearn import linear_model\n",
    "X = df[['Year']]\n",
    "y = df[['No of country']]\n",
    "\n",
    "# Split data\n",
    "X_train, X_test, y_train, y_test = train_test_split(X, y,test_size = 0.25, random_state=0)\n",
    "\n",
    "# Instantiate model\n",
    "lm2 = LinearRegression()\n",
    "\n",
    "# Fit Model\n",
    "lm2.fit(X_train, y_train)\n",
    "\n",
    "#R squared value\n",
    "print(\"R squared value: \",lm2.score(X,y))\n",
    "\n",
    "# Predict\n",
    "pred_Den = [0,0,0,0,0,0]\n",
    "for i in range (0,6):\n",
    "    pred_Den[i] = lm2.predict(2017+i)\n",
    "\n",
    "for i in range(0,6):\n",
    "    print(\"Predicted No of country for year: \",(2017+i),pred_Den[i])\n",
    "lm2.predict(2016)      "
   ]
  },
  {
   "cell_type": "code",
   "execution_count": 22,
   "metadata": {},
   "outputs": [
    {
     "name": "stdout",
     "output_type": "stream",
     "text": [
      "Predicted Population for year 2017:  [ 691020.89898337]\n",
      "Predicted Population for year 2018:  [ 727910.8981766]\n",
      "Predicted Population for year 2019:  [ 764800.89719746]\n",
      "Predicted Population for year 2020:  [ 801690.89639069]\n",
      "Predicted Population for year 2021:  [ 838580.89564024]\n",
      "Predicted Population for year 2022:  [ 875470.89483347]\n"
     ]
    }
   ],
   "source": [
    "# Forecasted Population of Lebanon\n",
    "X = df[['GDP','Density','No of country']]\n",
    "y = df.Population\n",
    "\n",
    "# Split data\n",
    "X_train, X_test, y_train, y_test = train_test_split(X, y,test_size = 0.25, random_state=0)\n",
    "\n",
    "# Instantiate model\n",
    "lm2 = LinearRegression()\n",
    "\n",
    "# Fit Model\n",
    "lm2.fit(X_train, y_train)\n",
    "\n",
    "# Predict\n",
    "y_pred = lm2.predict(X_test)\n",
    "    \n",
    "\n",
    "    \n",
    "var_2017 = [[10983.97235577,548.468218,32.76477198]]\n",
    "var_2018 = [[11326.78104968,560.67128008,33.9091207]]\n",
    "var_2019 = [[11669.58974359,572.87434217,35.05346943]]                               \n",
    "var_2020 = [[12012.3984375,585.07740425,36.19781815]]\n",
    "var_2021 = [[12355.20713141,597.28046634,37.34216687]]\n",
    "var_2022 = [[12698.01582532,609.48352842,38.48651559]]\n",
    "\n",
    "print(\"Predicted Population for year 2017: \",lm2.predict(var_2017))\n",
    "print(\"Predicted Population for year 2018: \",lm2.predict(var_2018))\n",
    "print(\"Predicted Population for year 2019: \",lm2.predict(var_2019))\n",
    "print(\"Predicted Population for year 2020: \",lm2.predict(var_2020))\n",
    "print(\"Predicted Population for year 2021: \",lm2.predict(var_2021))\n",
    "print(\"Predicted Population for year 2022: \",lm2.predict(var_2022))\n",
    "\n"
   ]
  },
  {
   "cell_type": "code",
   "execution_count": 23,
   "metadata": {},
   "outputs": [
    {
     "data": {
      "text/plain": [
       "array([ 654130.89973381])"
      ]
     },
     "execution_count": 23,
     "metadata": {},
     "output_type": "execute_result"
    }
   ],
   "source": [
    "lm2.predict([[10641.16366186,536.26515591,31.62042326]])"
   ]
  },
  {
   "cell_type": "code",
   "execution_count": 24,
   "metadata": {},
   "outputs": [
    {
     "name": "stdout",
     "output_type": "stream",
     "text": [
      "Predicted Population for year 2017:  [ 744209.81141631]\n",
      "Predicted Population for year 2018:  [ 784966.76891785]\n",
      "Predicted Population for year 2019:  [ 825723.72646919]\n",
      "Predicted Population for year 2020:  [ 866480.68397073]\n",
      "Predicted Population for year 2021:  [ 907237.64152207]\n",
      "Predicted Population for year 2022:  [ 947994.5990236]\n"
     ]
    }
   ],
   "source": [
    "# Forecasted Population of Lebanon\n",
    "X = df[['GDP','Density']]\n",
    "y = df.Population\n",
    "\n",
    "# Split data\n",
    "X_train, X_test, y_train, y_test = train_test_split(X, y,test_size = 0.25, random_state=0)\n",
    "\n",
    "# Instantiate model\n",
    "lm2 = LinearRegression()\n",
    "\n",
    "# Fit Model\n",
    "lm2.fit(X_train, y_train)\n",
    "\n",
    "# Predict\n",
    "y_pred = lm2.predict(X_test)\n",
    "    \n",
    "\n",
    "    \n",
    "var_2017 = [[10983.97235577,548.468218]]\n",
    "var_2018 = [[11326.78104968,560.67128008]]\n",
    "var_2019 = [[11669.58974359,572.87434217]]                               \n",
    "var_2020 = [[12012.3984375,585.07740425]]\n",
    "var_2021 = [[12355.20713141,597.28046634]]\n",
    "var_2022 = [[12698.01582532,609.48352842]]\n",
    "\n",
    "print(\"Predicted Population for year 2017: \",lm2.predict(var_2017))\n",
    "print(\"Predicted Population for year 2018: \",lm2.predict(var_2018))\n",
    "print(\"Predicted Population for year 2019: \",lm2.predict(var_2019))\n",
    "print(\"Predicted Population for year 2020: \",lm2.predict(var_2020))\n",
    "print(\"Predicted Population for year 2021: \",lm2.predict(var_2021))\n",
    "print(\"Predicted Population for year 2022: \",lm2.predict(var_2022))\n",
    "\n"
   ]
  },
  {
   "cell_type": "code",
   "execution_count": 25,
   "metadata": {},
   "outputs": [
    {
     "data": {
      "text/plain": [
       "array([ 703452.85386497])"
      ]
     },
     "execution_count": 25,
     "metadata": {},
     "output_type": "execute_result"
    }
   ],
   "source": [
    "lm2.predict([[10641.16366186,536.26515591]])"
   ]
  },
  {
   "cell_type": "code",
   "execution_count": null,
   "metadata": {
    "collapsed": true
   },
   "outputs": [],
   "source": []
  }
 ],
 "metadata": {
  "kernelspec": {
   "display_name": "Python 3",
   "language": "python",
   "name": "python3"
  },
  "language_info": {
   "codemirror_mode": {
    "name": "ipython",
    "version": 3
   },
   "file_extension": ".py",
   "mimetype": "text/x-python",
   "name": "python",
   "nbconvert_exporter": "python",
   "pygments_lexer": "ipython3",
   "version": "3.6.3"
  }
 },
 "nbformat": 4,
 "nbformat_minor": 2
}
