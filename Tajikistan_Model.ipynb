{
 "cells": [
  {
   "cell_type": "code",
   "execution_count": 1,
   "metadata": {},
   "outputs": [
    {
     "name": "stdout",
     "output_type": "stream",
     "text": [
      "Populating the interactive namespace from numpy and matplotlib\n"
     ]
    },
    {
     "name": "stderr",
     "output_type": "stream",
     "text": [
      "C:\\Users\\Umar Ibn Ali\\Anaconda3\\lib\\site-packages\\IPython\\core\\magics\\pylab.py:160: UserWarning: pylab import has clobbered these variables: ['pylab']\n",
      "`%matplotlib` prevents importing * from pylab and numpy\n",
      "  \"\\n`%matplotlib` prevents importing * from pylab and numpy\"\n"
     ]
    }
   ],
   "source": [
    "#Load necessary libraries\n",
    "import pylab\n",
    "%pylab inline\n",
    "import numpy as np\n",
    "import pandas as pd\n",
    "import matplotlib as plt\n",
    "from sklearn.linear_model import LinearRegression\n",
    "from sklearn.model_selection import train_test_split\n",
    "from sklearn import metrics\n"
   ]
  },
  {
   "cell_type": "code",
   "execution_count": 2,
   "metadata": {
    "collapsed": true
   },
   "outputs": [],
   "source": [
    "#load dataset in pandas\n",
    "df= pd.read_csv(\"/Users/Umar Ibn Ali/Desktop/FYP/Model/Tajikistan_dataset.csv\")"
   ]
  },
  {
   "cell_type": "code",
   "execution_count": 3,
   "metadata": {},
   "outputs": [
    {
     "data": {
      "text/html": [
       "<div>\n",
       "<style>\n",
       "    .dataframe thead tr:only-child th {\n",
       "        text-align: right;\n",
       "    }\n",
       "\n",
       "    .dataframe thead th {\n",
       "        text-align: left;\n",
       "    }\n",
       "\n",
       "    .dataframe tbody tr th {\n",
       "        vertical-align: top;\n",
       "    }\n",
       "</style>\n",
       "<table border=\"1\" class=\"dataframe\">\n",
       "  <thead>\n",
       "    <tr style=\"text-align: right;\">\n",
       "      <th></th>\n",
       "      <th>Year</th>\n",
       "      <th>GPI</th>\n",
       "      <th>GDP</th>\n",
       "      <th>No of country</th>\n",
       "      <th>Density</th>\n",
       "      <th>Population</th>\n",
       "    </tr>\n",
       "  </thead>\n",
       "  <tbody>\n",
       "    <tr>\n",
       "      <th>0</th>\n",
       "      <td>1992</td>\n",
       "      <td>NaN</td>\n",
       "      <td>53</td>\n",
       "      <td>1</td>\n",
       "      <td>39.3</td>\n",
       "      <td>3000</td>\n",
       "    </tr>\n",
       "    <tr>\n",
       "      <th>1</th>\n",
       "      <td>1993</td>\n",
       "      <td>NaN</td>\n",
       "      <td>122</td>\n",
       "      <td>1</td>\n",
       "      <td>40.0</td>\n",
       "      <td>300</td>\n",
       "    </tr>\n",
       "    <tr>\n",
       "      <th>2</th>\n",
       "      <td>1994</td>\n",
       "      <td>NaN</td>\n",
       "      <td>148</td>\n",
       "      <td>1</td>\n",
       "      <td>40.6</td>\n",
       "      <td>695</td>\n",
       "    </tr>\n",
       "    <tr>\n",
       "      <th>3</th>\n",
       "      <td>1995</td>\n",
       "      <td>NaN</td>\n",
       "      <td>100</td>\n",
       "      <td>1</td>\n",
       "      <td>41.2</td>\n",
       "      <td>620</td>\n",
       "    </tr>\n",
       "    <tr>\n",
       "      <th>4</th>\n",
       "      <td>1996</td>\n",
       "      <td>NaN</td>\n",
       "      <td>183</td>\n",
       "      <td>4</td>\n",
       "      <td>41.8</td>\n",
       "      <td>1166</td>\n",
       "    </tr>\n",
       "  </tbody>\n",
       "</table>\n",
       "</div>"
      ],
      "text/plain": [
       "   Year  GPI  GDP  No of country  Density  Population\n",
       "0  1992  NaN   53              1     39.3        3000\n",
       "1  1993  NaN  122              1     40.0         300\n",
       "2  1994  NaN  148              1     40.6         695\n",
       "3  1995  NaN  100              1     41.2         620\n",
       "4  1996  NaN  183              4     41.8        1166"
      ]
     },
     "execution_count": 3,
     "metadata": {},
     "output_type": "execute_result"
    }
   ],
   "source": [
    "#check dataset\n",
    "df.head()"
   ]
  },
  {
   "cell_type": "code",
   "execution_count": 4,
   "metadata": {},
   "outputs": [
    {
     "data": {
      "text/html": [
       "<div>\n",
       "<style>\n",
       "    .dataframe thead tr:only-child th {\n",
       "        text-align: right;\n",
       "    }\n",
       "\n",
       "    .dataframe thead th {\n",
       "        text-align: left;\n",
       "    }\n",
       "\n",
       "    .dataframe tbody tr th {\n",
       "        vertical-align: top;\n",
       "    }\n",
       "</style>\n",
       "<table border=\"1\" class=\"dataframe\">\n",
       "  <thead>\n",
       "    <tr style=\"text-align: right;\">\n",
       "      <th></th>\n",
       "      <th>Year</th>\n",
       "      <th>GPI</th>\n",
       "      <th>GDP</th>\n",
       "      <th>No of country</th>\n",
       "      <th>Density</th>\n",
       "      <th>Population</th>\n",
       "    </tr>\n",
       "  </thead>\n",
       "  <tbody>\n",
       "    <tr>\n",
       "      <th>count</th>\n",
       "      <td>25.000000</td>\n",
       "      <td>6.000000</td>\n",
       "      <td>25.000000</td>\n",
       "      <td>25.000000</td>\n",
       "      <td>25.000000</td>\n",
       "      <td>25.000000</td>\n",
       "    </tr>\n",
       "    <tr>\n",
       "      <th>mean</th>\n",
       "      <td>2004.000000</td>\n",
       "      <td>2.245167</td>\n",
       "      <td>450.640000</td>\n",
       "      <td>3.440000</td>\n",
       "      <td>49.164000</td>\n",
       "      <td>3218.040000</td>\n",
       "    </tr>\n",
       "    <tr>\n",
       "      <th>std</th>\n",
       "      <td>7.359801</td>\n",
       "      <td>0.099863</td>\n",
       "      <td>341.719656</td>\n",
       "      <td>1.474223</td>\n",
       "      <td>7.247291</td>\n",
       "      <td>3806.592543</td>\n",
       "    </tr>\n",
       "    <tr>\n",
       "      <th>min</th>\n",
       "      <td>1992.000000</td>\n",
       "      <td>2.124000</td>\n",
       "      <td>53.000000</td>\n",
       "      <td>1.000000</td>\n",
       "      <td>39.300000</td>\n",
       "      <td>300.000000</td>\n",
       "    </tr>\n",
       "    <tr>\n",
       "      <th>25%</th>\n",
       "      <td>1998.000000</td>\n",
       "      <td>2.170250</td>\n",
       "      <td>177.000000</td>\n",
       "      <td>3.000000</td>\n",
       "      <td>43.000000</td>\n",
       "      <td>1166.000000</td>\n",
       "    </tr>\n",
       "    <tr>\n",
       "      <th>50%</th>\n",
       "      <td>2004.000000</td>\n",
       "      <td>2.253500</td>\n",
       "      <td>304.000000</td>\n",
       "      <td>3.000000</td>\n",
       "      <td>48.000000</td>\n",
       "      <td>2174.000000</td>\n",
       "    </tr>\n",
       "    <tr>\n",
       "      <th>75%</th>\n",
       "      <td>2010.000000</td>\n",
       "      <td>2.290250</td>\n",
       "      <td>741.000000</td>\n",
       "      <td>4.000000</td>\n",
       "      <td>54.600000</td>\n",
       "      <td>3306.000000</td>\n",
       "    </tr>\n",
       "    <tr>\n",
       "      <th>max</th>\n",
       "      <td>2016.000000</td>\n",
       "      <td>2.395000</td>\n",
       "      <td>1113.000000</td>\n",
       "      <td>6.000000</td>\n",
       "      <td>62.900000</td>\n",
       "      <td>15364.000000</td>\n",
       "    </tr>\n",
       "  </tbody>\n",
       "</table>\n",
       "</div>"
      ],
      "text/plain": [
       "              Year       GPI          GDP  No of country    Density  \\\n",
       "count    25.000000  6.000000    25.000000      25.000000  25.000000   \n",
       "mean   2004.000000  2.245167   450.640000       3.440000  49.164000   \n",
       "std       7.359801  0.099863   341.719656       1.474223   7.247291   \n",
       "min    1992.000000  2.124000    53.000000       1.000000  39.300000   \n",
       "25%    1998.000000  2.170250   177.000000       3.000000  43.000000   \n",
       "50%    2004.000000  2.253500   304.000000       3.000000  48.000000   \n",
       "75%    2010.000000  2.290250   741.000000       4.000000  54.600000   \n",
       "max    2016.000000  2.395000  1113.000000       6.000000  62.900000   \n",
       "\n",
       "         Population  \n",
       "count     25.000000  \n",
       "mean    3218.040000  \n",
       "std     3806.592543  \n",
       "min      300.000000  \n",
       "25%     1166.000000  \n",
       "50%     2174.000000  \n",
       "75%     3306.000000  \n",
       "max    15364.000000  "
      ]
     },
     "execution_count": 4,
     "metadata": {},
     "output_type": "execute_result"
    }
   ],
   "source": [
    "df.describe()"
   ]
  },
  {
   "cell_type": "code",
   "execution_count": 5,
   "metadata": {
    "collapsed": true
   },
   "outputs": [],
   "source": [
    "#fill column with missing values\n",
    "df['GPI'].fillna(mean(df.GPI),inplace=True)"
   ]
  },
  {
   "cell_type": "code",
   "execution_count": 6,
   "metadata": {},
   "outputs": [
    {
     "data": {
      "text/plain": [
       "Year             0\n",
       "GPI              0\n",
       "GDP              0\n",
       "No of country    0\n",
       "Density          0\n",
       "Population       0\n",
       "dtype: int64"
      ]
     },
     "execution_count": 6,
     "metadata": {},
     "output_type": "execute_result"
    }
   ],
   "source": [
    "#check the columns with missing values\n",
    "df.apply(lambda x: sum(x.isnull()),axis=0)"
   ]
  },
  {
   "cell_type": "code",
   "execution_count": 7,
   "metadata": {},
   "outputs": [
    {
     "data": {
      "text/plain": [
       "<matplotlib.axes._subplots.AxesSubplot at 0x27cbcd735f8>"
      ]
     },
     "execution_count": 7,
     "metadata": {},
     "output_type": "execute_result"
    },
    {
     "data": {
      "image/png": "[encoded data removed]",
      "text/plain": [
       "<matplotlib.figure.Figure at 0x27cbcd23c50>"
      ]
     },
     "metadata": {},
     "output_type": "display_data"
    }
   ],
   "source": [
    "#check population histogram\n",
    "df['Population'].hist(bins=25)"
   ]
  },
  {
   "cell_type": "code",
   "execution_count": 8,
   "metadata": {},
   "outputs": [
    {
     "data": {
      "image/png": "[encoded data removed]",
      "text/plain": [
       "<matplotlib.figure.Figure at 0x27cbcff1320>"
      ]
     },
     "metadata": {},
     "output_type": "display_data"
    }
   ],
   "source": [
    "#check relationship between GDP and Population\n",
    "import matplotlib.pyplot as plt\n",
    "plt.scatter(df['GDP'], df['Population'])\n",
    "plt.show() "
   ]
  },
  {
   "cell_type": "code",
   "execution_count": 9,
   "metadata": {},
   "outputs": [
    {
     "data": {
      "image/png": "[encoded data removed]",
      "text/plain": [
       "<matplotlib.figure.Figure at 0x27cbd06c9e8>"
      ]
     },
     "metadata": {},
     "output_type": "display_data"
    }
   ],
   "source": [
    "#check relationship between Density and Population\n",
    "plt.scatter(df['Density'], df['Population'])\n",
    "plt.show() "
   ]
  },
  {
   "cell_type": "code",
   "execution_count": 10,
   "metadata": {},
   "outputs": [
    {
     "data": {
      "image/png": "[encoded data removed]",
      "text/plain": [
       "<matplotlib.figure.Figure at 0x27cbd1fceb8>"
      ]
     },
     "metadata": {},
     "output_type": "display_data"
    }
   ],
   "source": [
    "#check relationship between No of country and Population\n",
    "plt.scatter(df['No of country'], df['Population'])\n",
    "plt.show() "
   ]
  },
  {
   "cell_type": "code",
   "execution_count": 11,
   "metadata": {},
   "outputs": [
    {
     "name": "stdout",
     "output_type": "stream",
     "text": [
      "Intercept:  4299.73725004\n",
      "Coefficient:  [-2.40035782]\n",
      "R squared value:  0.0464321839041\n"
     ]
    }
   ],
   "source": [
    "#check GDP and Population linear relationship\n",
    "feature_cols = ['GDP']\n",
    "X = df[feature_cols]\n",
    "y = df.Population\n",
    "lm = LinearRegression()\n",
    "lm.fit(X, y)\n",
    "\n",
    "# print the coefficients\n",
    "print(\"Intercept: \",lm.intercept_)\n",
    "print(\"Coefficient: \",lm.coef_)\n",
    "\n",
    "#check R squared value\n",
    "print(\"R squared value: \",lm.score(X, y))"
   ]
  },
  {
   "cell_type": "code",
   "execution_count": 12,
   "metadata": {},
   "outputs": [
    {
     "name": "stdout",
     "output_type": "stream",
     "text": [
      "Intercept:  6633.76056723\n",
      "Coefficient:  [-69.47605092]\n",
      "R squared value:  0.0174964088235\n"
     ]
    }
   ],
   "source": [
    "#check Density and Population linear relationship\n",
    "feature_cols = ['Density']\n",
    "X = df[feature_cols]\n",
    "y = df.Population\n",
    "lm = LinearRegression()\n",
    "lm.fit(X, y)\n",
    "\n",
    "# print the coefficients\n",
    "print(\"Intercept: \",lm.intercept_)\n",
    "print(\"Coefficient: \",lm.coef_)\n",
    "\n",
    "#check R squared value\n",
    "print(\"R squared value: \",lm.score(X, y))"
   ]
  },
  {
   "cell_type": "code",
   "execution_count": 13,
   "metadata": {},
   "outputs": [
    {
     "name": "stdout",
     "output_type": "stream",
     "text": [
      "Intercept:  1345.45858896\n",
      "Coefficient:  [ 544.35506135]\n",
      "R squared value:  0.0444445063248\n"
     ]
    }
   ],
   "source": [
    "#check No of Country and Population linear relationship\n",
    "feature_cols = ['No of country']\n",
    "X = df[feature_cols]\n",
    "y = df.Population\n",
    "lm = LinearRegression()\n",
    "lm.fit(X, y)\n",
    "\n",
    "# print the coefficients\n",
    "print(\"Intercept: \",lm.intercept_)\n",
    "print(\"Coefficient: \",lm.coef_)\n",
    "\n",
    "#check R squared value\n",
    "print(\"R squared value: \",lm.score(X, y))"
   ]
  },
  {
   "cell_type": "code",
   "execution_count": 14,
   "metadata": {},
   "outputs": [
    {
     "name": "stdout",
     "output_type": "stream",
     "text": [
      "Intercept:  3812.92733035\n",
      "Coefficient:  [-264.96355001]\n",
      "R squared value:  1.00661916244e-05\n"
     ]
    }
   ],
   "source": [
    "#check GPI and Population linear relationship\n",
    "feature_cols = ['GPI']\n",
    "X = df[feature_cols]\n",
    "y = df.Population\n",
    "lm = LinearRegression()\n",
    "lm.fit(X, y)\n",
    "\n",
    "# print the coefficients\n",
    "print(\"Intercept: \",lm.intercept_)\n",
    "print(\"Coefficient: \",lm.coef_)\n",
    "\n",
    "#check R squared value\n",
    "print(\"R squared value: \",lm.score(X, y))"
   ]
  },
  {
   "cell_type": "code",
   "execution_count": 15,
   "metadata": {},
   "outputs": [
    {
     "name": "stdout",
     "output_type": "stream",
     "text": [
      "RMSE Score:  1524.20507774\n",
      "MAE Score:  1150.85693818\n",
      "MSE Score:  2323201.11899\n",
      "R squared value:  0.287856740955\n"
     ]
    }
   ],
   "source": [
    "# include all variables to build a model\n",
    "X = df[['GDP', 'Density', 'No of country','GPI']]\n",
    "y = df.Population\n",
    "\n",
    "# Split data\n",
    "X_train, X_test, y_train, y_test = train_test_split(X, y,test_size = 0.25, random_state=0)\n",
    "\n",
    "# Instantiate model\n",
    "lm2 = LinearRegression()\n",
    "\n",
    "# Fit Model\n",
    "lm2.fit(X_train, y_train)\n",
    "\n",
    "# Predict\n",
    "y_pred = lm2.predict(X_test)\n",
    "\n",
    "# RMSE-Root Mean Squared Error\n",
    "print(\"RMSE Score: \",np.sqrt(metrics.mean_squared_error(y_test, y_pred)))\n",
    "\n",
    "#MAE is the mean of the absolute value of the errors:\n",
    "print(\"MAE Score: \",metrics.mean_absolute_error(y_test, y_pred))\n",
    "\n",
    "#MSE is the mean of the squared errors:\n",
    "print(\"MSE Score: \",metrics.mean_squared_error(y_test, y_pred))\n",
    "\n",
    "#check R squared value\n",
    "print(\"R squared value: \",lm2.score(X,y))"
   ]
  },
  {
   "cell_type": "code",
   "execution_count": 16,
   "metadata": {},
   "outputs": [
    {
     "name": "stdout",
     "output_type": "stream",
     "text": [
      "RMSE Score:  1538.26502392\n",
      "MAE Score:  1244.32125105\n",
      "MSE Score:  2366259.28381\n",
      "R squared value:  0.284935075436\n"
     ]
    }
   ],
   "source": [
    "# include all variables to build a model\n",
    "X = df[['GDP','Density', 'No of country']]\n",
    "y = df.Population\n",
    "\n",
    "# Split data\n",
    "X_train, X_test, y_train, y_test = train_test_split(X, y,test_size = 0.25, random_state=0)\n",
    "\n",
    "# Instantiate model\n",
    "lm2 = LinearRegression()\n",
    "\n",
    "# Fit Model\n",
    "lm2.fit(X_train, y_train)\n",
    "\n",
    "# Predict\n",
    "y_pred = lm2.predict(X_test)\n",
    "\n",
    "# RMSE-Root Mean Squared Error\n",
    "print(\"RMSE Score: \",np.sqrt(metrics.mean_squared_error(y_test, y_pred)))\n",
    "\n",
    "#MAE is the mean of the absolute value of the errors:\n",
    "print(\"MAE Score: \",metrics.mean_absolute_error(y_test, y_pred))\n",
    "\n",
    "#MSE is the mean of the squared errors:\n",
    "print(\"MSE Score: \",metrics.mean_squared_error(y_test, y_pred))\n",
    "\n",
    "#check R squared value\n",
    "print(\"R squared value: \",lm2.score(X,y))"
   ]
  },
  {
   "cell_type": "code",
   "execution_count": 17,
   "metadata": {},
   "outputs": [
    {
     "name": "stdout",
     "output_type": "stream",
     "text": [
      "RMSE Score:  1435.47745769\n",
      "MAE Score:  1197.45512364\n",
      "MSE Score:  2060595.53153\n",
      "R squared value:  0.285028490765\n"
     ]
    }
   ],
   "source": [
    "# include all variables to build a model\n",
    "X = df[['GDP', 'No of country']]\n",
    "y = df.Population\n",
    "\n",
    "# Split data\n",
    "X_train, X_test, y_train, y_test = train_test_split(X, y,test_size = 0.25, random_state=0)\n",
    "\n",
    "# Instantiate model\n",
    "lm2 = LinearRegression()\n",
    "\n",
    "# Fit Model\n",
    "lm2.fit(X_train, y_train)\n",
    "\n",
    "# Predict\n",
    "y_pred = lm2.predict(X_test)\n",
    "\n",
    "# RMSE-Root Mean Squared Error\n",
    "print(\"RMSE Score: \",np.sqrt(metrics.mean_squared_error(y_test, y_pred)))\n",
    "\n",
    "#MAE is the mean of the absolute value of the errors:\n",
    "print(\"MAE Score: \",metrics.mean_absolute_error(y_test, y_pred))\n",
    "\n",
    "#MSE is the mean of the squared errors:\n",
    "print(\"MSE Score: \",metrics.mean_squared_error(y_test, y_pred))\n",
    "\n",
    "#check R squared value\n",
    "print(\"R squared value: \",lm2.score(X,y))"
   ]
  },
  {
   "cell_type": "code",
   "execution_count": 18,
   "metadata": {},
   "outputs": [
    {
     "name": "stdout",
     "output_type": "stream",
     "text": [
      "R squared value:  0.857145063327\n",
      "Predicted GDP for year:  2017 [[ 1001.66980749]]\n",
      "Predicted GDP for year:  2018 [[ 1043.86053123]]\n",
      "Predicted GDP for year:  2019 [[ 1086.05125498]]\n",
      "Predicted GDP for year:  2020 [[ 1128.24197872]]\n",
      "Predicted GDP for year:  2021 [[ 1170.43270246]]\n",
      "Predicted GDP for year:  2022 [[ 1212.6234262]]\n"
     ]
    },
    {
     "data": {
      "text/plain": [
       "array([[ 959.47908375]])"
      ]
     },
     "execution_count": 18,
     "metadata": {},
     "output_type": "execute_result"
    }
   ],
   "source": [
    "#predict the GDP for future using a linear model with Year\n",
    "from sklearn import linear_model\n",
    "X = df[['Year']]\n",
    "y = df[['GDP']]\n",
    "\n",
    "# Split data\n",
    "X_train, X_test, y_train, y_test = train_test_split(X, y,test_size = 0.33, random_state=42)\n",
    "\n",
    "# Instantiate model\n",
    "lm2 = LinearRegression()\n",
    "\n",
    "# Fit Model\n",
    "lm2.fit(X_train, y_train)\n",
    "\n",
    "#R squared value\n",
    "print(\"R squared value: \",lm2.score(X,y))\n",
    "\n",
    "# Predict\n",
    "pred_Den = [0,0,0,0,0,0]\n",
    "for i in range (0,6):\n",
    "    pred_Den[i] = lm2.predict(2017+i)\n",
    "\n",
    "for i in range(0,6):\n",
    "    print(\"Predicted GDP for year: \",(2017+i),pred_Den[i])\n",
    "lm2.predict(2016)      "
   ]
  },
  {
   "cell_type": "code",
   "execution_count": 19,
   "metadata": {},
   "outputs": [
    {
     "name": "stdout",
     "output_type": "stream",
     "text": [
      "R squared value:  0.59202026294\n",
      "Predicted No of country for year:  2017 [[ 5.42019052]]\n",
      "Predicted No of country for year:  2018 [[ 5.56714684]]\n",
      "Predicted No of country for year:  2019 [[ 5.71410316]]\n",
      "Predicted No of country for year:  2020 [[ 5.86105948]]\n",
      "Predicted No of country for year:  2021 [[ 6.0080158]]\n",
      "Predicted No of country for year:  2022 [[ 6.15497212]]\n"
     ]
    },
    {
     "data": {
      "text/plain": [
       "array([[ 5.2732342]])"
      ]
     },
     "execution_count": 19,
     "metadata": {},
     "output_type": "execute_result"
    }
   ],
   "source": [
    "#predict the GDP for future using a linear model with Year\n",
    "from sklearn import linear_model\n",
    "X = df[['Year']]\n",
    "y = df[['No of country']]\n",
    "\n",
    "# Split data\n",
    "X_train, X_test, y_train, y_test = train_test_split(X, y,test_size = 0.25, random_state=0)\n",
    "\n",
    "# Instantiate model\n",
    "lm2 = LinearRegression()\n",
    "\n",
    "# Fit Model\n",
    "lm2.fit(X_train, y_train)\n",
    "\n",
    "#R squared value\n",
    "print(\"R squared value: \",lm2.score(X,y))\n",
    "\n",
    "# Predict\n",
    "pred_Den = [0,0,0,0,0,0]\n",
    "for i in range (0,6):\n",
    "    pred_Den[i] = lm2.predict(2017+i)\n",
    "\n",
    "for i in range(0,6):\n",
    "    print(\"Predicted No of country for year: \",(2017+i),pred_Den[i])\n",
    "lm2.predict(2016)      "
   ]
  },
  {
   "cell_type": "code",
   "execution_count": 20,
   "metadata": {},
   "outputs": [
    {
     "name": "stdout",
     "output_type": "stream",
     "text": [
      "Predicted Population for year 2017:  [ 2210.39994686]\n",
      "Predicted Population for year 2018:  [ 2124.12148234]\n",
      "Predicted Population for year 2019:  [ 2037.84301773]\n",
      "Predicted Population for year 2020:  [ 1951.56455321]\n",
      "Predicted Population for year 2021:  [ 1865.28608869]\n",
      "Predicted Population for year 2022:  [ 1779.00762417]\n"
     ]
    }
   ],
   "source": [
    "# Forecasted Population of Kazakhstan\n",
    "X = df[['GDP','No of country']]\n",
    "y = df.Population\n",
    "\n",
    "# Split data\n",
    "X_train, X_test, y_train, y_test = train_test_split(X, y,test_size = 0.25, random_state=0)\n",
    "\n",
    "# Instantiate model\n",
    "lm2 = LinearRegression()\n",
    "\n",
    "# Fit Model\n",
    "lm2.fit(X_train, y_train)\n",
    "\n",
    "# Predict\n",
    "y_pred = lm2.predict(X_test)\n",
    "\n",
    "\n",
    "var_2017 = [[1001.66980749,5.42019052]]\n",
    "var_2018 = [[1043.86053123,5.56714684]]\n",
    "var_2019 = [[1086.05125498,5.71410316]]                               \n",
    "var_2020 = [[1128.24197872,5.86105948]]\n",
    "var_2021 = [[1170.43270246,6.0080158]]\n",
    "var_2022 = [[1212.6234262,6.15497212]]\n",
    "\n",
    "print(\"Predicted Population for year 2017: \",lm2.predict(var_2017))\n",
    "print(\"Predicted Population for year 2018: \",lm2.predict(var_2018))\n",
    "print(\"Predicted Population for year 2019: \",lm2.predict(var_2019))\n",
    "print(\"Predicted Population for year 2020: \",lm2.predict(var_2020))\n",
    "print(\"Predicted Population for year 2021: \",lm2.predict(var_2021))\n",
    "print(\"Predicted Population for year 2022: \",lm2.predict(var_2022))\n",
    "\n"
   ]
  },
  {
   "cell_type": "code",
   "execution_count": 21,
   "metadata": {},
   "outputs": [
    {
     "data": {
      "text/plain": [
       "array([ 2296.67841138])"
      ]
     },
     "execution_count": 21,
     "metadata": {},
     "output_type": "execute_result"
    }
   ],
   "source": [
    "lm2.predict([[959.47908375,5.2732342]])"
   ]
  },
  {
   "cell_type": "code",
   "execution_count": null,
   "metadata": {
    "collapsed": true
   },
   "outputs": [],
   "source": []
  }
 ],
 "metadata": {
  "kernelspec": {
   "display_name": "Python 3",
   "language": "python",
   "name": "python3"
  },
  "language_info": {
   "codemirror_mode": {
    "name": "ipython",
    "version": 3
   },
   "file_extension": ".py",
   "mimetype": "text/x-python",
   "name": "python",
   "nbconvert_exporter": "python",
   "pygments_lexer": "ipython3",
   "version": "3.6.3"
  }
 },
 "nbformat": 4,
 "nbformat_minor": 2
}
