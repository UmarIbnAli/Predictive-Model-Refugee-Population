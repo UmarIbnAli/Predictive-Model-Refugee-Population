{
 "cells": [
  {
   "cell_type": "code",
   "execution_count": 1,
   "metadata": {},
   "outputs": [
    {
     "name": "stdout",
     "output_type": "stream",
     "text": [
      "Populating the interactive namespace from numpy and matplotlib\n"
     ]
    },
    {
     "name": "stderr",
     "output_type": "stream",
     "text": [
      "C:\\Users\\Umar Ibn Ali\\Anaconda3\\lib\\site-packages\\IPython\\core\\magics\\pylab.py:160: UserWarning: pylab import has clobbered these variables: ['pylab']\n",
      "`%matplotlib` prevents importing * from pylab and numpy\n",
      "  \"\\n`%matplotlib` prevents importing * from pylab and numpy\"\n"
     ]
    }
   ],
   "source": [
    "#Load necessary libraries\n",
    "import pylab\n",
    "%pylab inline\n",
    "import numpy as np\n",
    "import pandas as pd\n",
    "import matplotlib as plt\n",
    "from sklearn.linear_model import LinearRegression\n",
    "from sklearn.model_selection import train_test_split\n",
    "from sklearn import metrics\n"
   ]
  },
  {
   "cell_type": "code",
   "execution_count": 2,
   "metadata": {
    "collapsed": true
   },
   "outputs": [],
   "source": [
    "#load dataset in pandas\n",
    "df= pd.read_csv(\"/Users/Umar Ibn Ali/Desktop/FYP/Model/Iraq_dataset.csv\")"
   ]
  },
  {
   "cell_type": "code",
   "execution_count": 3,
   "metadata": {},
   "outputs": [
    {
     "data": {
      "text/html": [
       "<div>\n",
       "<style>\n",
       "    .dataframe thead tr:only-child th {\n",
       "        text-align: right;\n",
       "    }\n",
       "\n",
       "    .dataframe thead th {\n",
       "        text-align: left;\n",
       "    }\n",
       "\n",
       "    .dataframe tbody tr th {\n",
       "        vertical-align: top;\n",
       "    }\n",
       "</style>\n",
       "<table border=\"1\" class=\"dataframe\">\n",
       "  <thead>\n",
       "    <tr style=\"text-align: right;\">\n",
       "      <th></th>\n",
       "      <th>Year</th>\n",
       "      <th>GPI</th>\n",
       "      <th>GDP</th>\n",
       "      <th>No of country</th>\n",
       "      <th>Density</th>\n",
       "      <th>Population</th>\n",
       "    </tr>\n",
       "  </thead>\n",
       "  <tbody>\n",
       "    <tr>\n",
       "      <th>0</th>\n",
       "      <td>1991</td>\n",
       "      <td>NaN</td>\n",
       "      <td>NaN</td>\n",
       "      <td>4</td>\n",
       "      <td>41.05</td>\n",
       "      <td>87990</td>\n",
       "    </tr>\n",
       "    <tr>\n",
       "      <th>1</th>\n",
       "      <td>1992</td>\n",
       "      <td>NaN</td>\n",
       "      <td>NaN</td>\n",
       "      <td>4</td>\n",
       "      <td>42.23</td>\n",
       "      <td>115000</td>\n",
       "    </tr>\n",
       "    <tr>\n",
       "      <th>2</th>\n",
       "      <td>1993</td>\n",
       "      <td>NaN</td>\n",
       "      <td>NaN</td>\n",
       "      <td>4</td>\n",
       "      <td>43.49</td>\n",
       "      <td>109066</td>\n",
       "    </tr>\n",
       "    <tr>\n",
       "      <th>3</th>\n",
       "      <td>1994</td>\n",
       "      <td>NaN</td>\n",
       "      <td>NaN</td>\n",
       "      <td>4</td>\n",
       "      <td>44.83</td>\n",
       "      <td>119581</td>\n",
       "    </tr>\n",
       "    <tr>\n",
       "      <th>4</th>\n",
       "      <td>1995</td>\n",
       "      <td>NaN</td>\n",
       "      <td>NaN</td>\n",
       "      <td>6</td>\n",
       "      <td>46.23</td>\n",
       "      <td>116722</td>\n",
       "    </tr>\n",
       "  </tbody>\n",
       "</table>\n",
       "</div>"
      ],
      "text/plain": [
       "   Year  GPI  GDP  No of country  Density  Population\n",
       "0  1991  NaN  NaN              4    41.05       87990\n",
       "1  1992  NaN  NaN              4    42.23      115000\n",
       "2  1993  NaN  NaN              4    43.49      109066\n",
       "3  1994  NaN  NaN              4    44.83      119581\n",
       "4  1995  NaN  NaN              6    46.23      116722"
      ]
     },
     "execution_count": 3,
     "metadata": {},
     "output_type": "execute_result"
    }
   ],
   "source": [
    "#check dataset\n",
    "df.head()"
   ]
  },
  {
   "cell_type": "code",
   "execution_count": 4,
   "metadata": {},
   "outputs": [
    {
     "data": {
      "text/html": [
       "<div>\n",
       "<style>\n",
       "    .dataframe thead tr:only-child th {\n",
       "        text-align: right;\n",
       "    }\n",
       "\n",
       "    .dataframe thead th {\n",
       "        text-align: left;\n",
       "    }\n",
       "\n",
       "    .dataframe tbody tr th {\n",
       "        vertical-align: top;\n",
       "    }\n",
       "</style>\n",
       "<table border=\"1\" class=\"dataframe\">\n",
       "  <thead>\n",
       "    <tr style=\"text-align: right;\">\n",
       "      <th></th>\n",
       "      <th>Year</th>\n",
       "      <th>GPI</th>\n",
       "      <th>GDP</th>\n",
       "      <th>No of country</th>\n",
       "      <th>Density</th>\n",
       "      <th>Population</th>\n",
       "    </tr>\n",
       "  </thead>\n",
       "  <tbody>\n",
       "    <tr>\n",
       "      <th>count</th>\n",
       "      <td>26.000000</td>\n",
       "      <td>9.000000</td>\n",
       "      <td>14.000000</td>\n",
       "      <td>26.000000</td>\n",
       "      <td>26.000000</td>\n",
       "      <td>26.000000</td>\n",
       "    </tr>\n",
       "    <tr>\n",
       "      <th>mean</th>\n",
       "      <td>2003.500000</td>\n",
       "      <td>3.363333</td>\n",
       "      <td>4096.714286</td>\n",
       "      <td>6.615385</td>\n",
       "      <td>60.593077</td>\n",
       "      <td>112251.076923</td>\n",
       "    </tr>\n",
       "    <tr>\n",
       "      <th>std</th>\n",
       "      <td>7.648529</td>\n",
       "      <td>0.111359</td>\n",
       "      <td>2044.329171</td>\n",
       "      <td>2.155494</td>\n",
       "      <td>13.360795</td>\n",
       "      <td>74948.670716</td>\n",
       "    </tr>\n",
       "    <tr>\n",
       "      <th>min</th>\n",
       "      <td>1991.000000</td>\n",
       "      <td>3.192000</td>\n",
       "      <td>609.000000</td>\n",
       "      <td>4.000000</td>\n",
       "      <td>41.050000</td>\n",
       "      <td>34655.000000</td>\n",
       "    </tr>\n",
       "    <tr>\n",
       "      <th>25%</th>\n",
       "      <td>1997.250000</td>\n",
       "      <td>3.296000</td>\n",
       "      <td>2513.500000</td>\n",
       "      <td>5.000000</td>\n",
       "      <td>49.590000</td>\n",
       "      <td>46220.000000</td>\n",
       "    </tr>\n",
       "    <tr>\n",
       "      <th>50%</th>\n",
       "      <td>2003.500000</td>\n",
       "      <td>3.370000</td>\n",
       "      <td>4473.000000</td>\n",
       "      <td>6.000000</td>\n",
       "      <td>59.390000</td>\n",
       "      <td>106549.000000</td>\n",
       "    </tr>\n",
       "    <tr>\n",
       "      <th>75%</th>\n",
       "      <td>2009.750000</td>\n",
       "      <td>3.406000</td>\n",
       "      <td>5604.000000</td>\n",
       "      <td>8.000000</td>\n",
       "      <td>70.555000</td>\n",
       "      <td>128053.250000</td>\n",
       "    </tr>\n",
       "    <tr>\n",
       "      <th>max</th>\n",
       "      <td>2016.000000</td>\n",
       "      <td>3.570000</td>\n",
       "      <td>7021.000000</td>\n",
       "      <td>11.000000</td>\n",
       "      <td>85.700000</td>\n",
       "      <td>277701.000000</td>\n",
       "    </tr>\n",
       "  </tbody>\n",
       "</table>\n",
       "</div>"
      ],
      "text/plain": [
       "              Year       GPI          GDP  No of country    Density  \\\n",
       "count    26.000000  9.000000    14.000000      26.000000  26.000000   \n",
       "mean   2003.500000  3.363333  4096.714286       6.615385  60.593077   \n",
       "std       7.648529  0.111359  2044.329171       2.155494  13.360795   \n",
       "min    1991.000000  3.192000   609.000000       4.000000  41.050000   \n",
       "25%    1997.250000  3.296000  2513.500000       5.000000  49.590000   \n",
       "50%    2003.500000  3.370000  4473.000000       6.000000  59.390000   \n",
       "75%    2009.750000  3.406000  5604.000000       8.000000  70.555000   \n",
       "max    2016.000000  3.570000  7021.000000      11.000000  85.700000   \n",
       "\n",
       "          Population  \n",
       "count      26.000000  \n",
       "mean   112251.076923  \n",
       "std     74948.670716  \n",
       "min     34655.000000  \n",
       "25%     46220.000000  \n",
       "50%    106549.000000  \n",
       "75%    128053.250000  \n",
       "max    277701.000000  "
      ]
     },
     "execution_count": 4,
     "metadata": {},
     "output_type": "execute_result"
    }
   ],
   "source": [
    "df.describe()"
   ]
  },
  {
   "cell_type": "code",
   "execution_count": 5,
   "metadata": {
    "collapsed": true
   },
   "outputs": [],
   "source": [
    "#fill column with missing values\n",
    "df['GPI'].fillna(mean(df.GPI),inplace=True)\n",
    "df['GDP'].fillna(mean(df.GDP),inplace=True)\n"
   ]
  },
  {
   "cell_type": "code",
   "execution_count": 6,
   "metadata": {},
   "outputs": [
    {
     "data": {
      "text/plain": [
       "Year             0\n",
       "GPI              0\n",
       "GDP              0\n",
       "No of country    0\n",
       "Density          0\n",
       "Population       0\n",
       "dtype: int64"
      ]
     },
     "execution_count": 6,
     "metadata": {},
     "output_type": "execute_result"
    }
   ],
   "source": [
    "#check the columns with missing values\n",
    "df.apply(lambda x: sum(x.isnull()),axis=0)"
   ]
  },
  {
   "cell_type": "code",
   "execution_count": 7,
   "metadata": {},
   "outputs": [
    {
     "data": {
      "text/plain": [
       "<matplotlib.axes._subplots.AxesSubplot at 0x2ce1b57b588>"
      ]
     },
     "execution_count": 7,
     "metadata": {},
     "output_type": "execute_result"
    },
    {
     "data": {
      "image/png": "[encoded data removed]",
      "text/plain": [
       "<matplotlib.figure.Figure at 0x2ce1b5335f8>"
      ]
     },
     "metadata": {},
     "output_type": "display_data"
    }
   ],
   "source": [
    "#check population histogram\n",
    "df['Population'].hist(bins=25)"
   ]
  },
  {
   "cell_type": "code",
   "execution_count": 8,
   "metadata": {},
   "outputs": [
    {
     "data": {
      "image/png": "[encoded data removed]",
      "text/plain": [
       "<matplotlib.figure.Figure at 0x2ce1b679518>"
      ]
     },
     "metadata": {},
     "output_type": "display_data"
    }
   ],
   "source": [
    "#check relationship between GDP and Population\n",
    "import matplotlib.pyplot as plt\n",
    "plt.scatter(df['GDP'], df['Population'])\n",
    "plt.show() "
   ]
  },
  {
   "cell_type": "code",
   "execution_count": 9,
   "metadata": {},
   "outputs": [
    {
     "data": {
      "image/png": "[encoded data removed]",
      "text/plain": [
       "<matplotlib.figure.Figure at 0x2ce1b79b1d0>"
      ]
     },
     "metadata": {},
     "output_type": "display_data"
    }
   ],
   "source": [
    "#check relationship between Density and Population\n",
    "import matplotlib.pyplot as plt\n",
    "plt.scatter(df['Density'], df['Population'])\n",
    "plt.show() "
   ]
  },
  {
   "cell_type": "code",
   "execution_count": 10,
   "metadata": {},
   "outputs": [
    {
     "data": {
      "image/png": "[encoded data removed]",
      "text/plain": [
       "<matplotlib.figure.Figure at 0x2ce1b839ef0>"
      ]
     },
     "metadata": {},
     "output_type": "display_data"
    }
   ],
   "source": [
    "#check relationship between No of country and Population\n",
    "plt.scatter(df['No of country'], df['Population'])\n",
    "plt.show() "
   ]
  },
  {
   "cell_type": "code",
   "execution_count": 11,
   "metadata": {},
   "outputs": [
    {
     "data": {
      "image/png": "[encoded data removed]",
      "text/plain": [
       "<matplotlib.figure.Figure at 0x2ce1b749b38>"
      ]
     },
     "metadata": {},
     "output_type": "display_data"
    }
   ],
   "source": [
    "#check relationship between GPI and Population\n",
    "plt.scatter(df['GPI'], df['Population'])\n",
    "plt.show() "
   ]
  },
  {
   "cell_type": "code",
   "execution_count": 12,
   "metadata": {},
   "outputs": [
    {
     "name": "stdout",
     "output_type": "stream",
     "text": [
      "Intercept:  -1898.80899413\n",
      "Coefficient:  [ 27.86376544]\n",
      "R squared value:  0.300370125941\n"
     ]
    }
   ],
   "source": [
    "#check GDP and Population linear relationship\n",
    "feature_cols = ['GDP']\n",
    "X = df[feature_cols]\n",
    "y = df.Population\n",
    "lm = LinearRegression()\n",
    "lm.fit(X, y)\n",
    "\n",
    "# print the coefficients\n",
    "print(\"Intercept: \",lm.intercept_)\n",
    "print(\"Coefficient: \",lm.coef_)\n",
    "\n",
    "#check R squared value\n",
    "print(\"R squared value: \",lm.score(X, y))"
   ]
  },
  {
   "cell_type": "code",
   "execution_count": 13,
   "metadata": {},
   "outputs": [
    {
     "name": "stdout",
     "output_type": "stream",
     "text": [
      "Intercept:  -16484.4251738\n",
      "Coefficient:  [ 2124.59093735]\n",
      "R squared value:  0.143445658335\n"
     ]
    }
   ],
   "source": [
    "#check Density and Population linear relationship\n",
    "feature_cols = ['Density']\n",
    "X = df[feature_cols]\n",
    "y = df.Population\n",
    "lm = LinearRegression()\n",
    "lm.fit(X, y)\n",
    "\n",
    "# print the coefficients\n",
    "print(\"Intercept: \",lm.intercept_)\n",
    "print(\"Coefficient: \",lm.coef_)\n",
    "\n",
    "#check R squared value\n",
    "print(\"R squared value: \",lm.score(X, y))"
   ]
  },
  {
   "cell_type": "code",
   "execution_count": 14,
   "metadata": {},
   "outputs": [
    {
     "name": "stdout",
     "output_type": "stream",
     "text": [
      "Intercept:  24806.4039735\n",
      "Coefficient:  [ 13218.3807947]\n",
      "R squared value:  0.144518097186\n"
     ]
    }
   ],
   "source": [
    "#check No of Country and Population linear relationship\n",
    "feature_cols = ['No of country']\n",
    "X = df[feature_cols]\n",
    "y = df.Population\n",
    "lm = LinearRegression()\n",
    "lm.fit(X, y)\n",
    "\n",
    "# print the coefficients\n",
    "print(\"Intercept: \",lm.intercept_)\n",
    "print(\"Coefficient: \",lm.coef_)\n",
    "\n",
    "#check R squared value\n",
    "print(\"R squared value: \",lm.score(X, y))"
   ]
  },
  {
   "cell_type": "code",
   "execution_count": 15,
   "metadata": {},
   "outputs": [
    {
     "name": "stdout",
     "output_type": "stream",
     "text": [
      "Intercept:  -1032348.87487\n",
      "Coefficient:  [ 340317.1313563]\n",
      "R squared value:  0.0818158948431\n"
     ]
    }
   ],
   "source": [
    "#check GPI and Population linear relationship\n",
    "feature_cols = ['GPI']\n",
    "X = df[feature_cols]\n",
    "y = df.Population\n",
    "lm = LinearRegression()\n",
    "lm.fit(X, y)\n",
    "\n",
    "# print the coefficients\n",
    "print(\"Intercept: \",lm.intercept_)\n",
    "print(\"Coefficient: \",lm.coef_)\n",
    "\n",
    "#check R squared value\n",
    "print(\"R squared value: \",lm.score(X, y))"
   ]
  },
  {
   "cell_type": "code",
   "execution_count": 16,
   "metadata": {},
   "outputs": [
    {
     "name": "stdout",
     "output_type": "stream",
     "text": [
      "RMSE Score:  61737.8029651\n",
      "MAE Score:  44582.1931668\n",
      "MSE Score:  3811556314.96\n",
      "R squared value:  0.573734908195\n"
     ]
    }
   ],
   "source": [
    "# include all variables to build a model\n",
    "X = df[['GDP', 'Density', 'No of country','GPI']]\n",
    "y = df.Population\n",
    "\n",
    "# Split data\n",
    "X_train, X_test, y_train, y_test = train_test_split(X, y,test_size = 0.25, random_state=0)\n",
    "\n",
    "# Instantiate model\n",
    "lm2 = LinearRegression()\n",
    "\n",
    "# Fit Model\n",
    "lm2.fit(X_train, y_train)\n",
    "\n",
    "# Predict\n",
    "y_pred = lm2.predict(X_test)\n",
    "\n",
    "# RMSE-Root Mean Squared Error\n",
    "print(\"RMSE Score: \",np.sqrt(metrics.mean_squared_error(y_test, y_pred)))\n",
    "\n",
    "#MAE is the mean of the absolute value of the errors:\n",
    "print(\"MAE Score: \",metrics.mean_absolute_error(y_test, y_pred))\n",
    "\n",
    "#MSE is the mean of the squared errors:\n",
    "print(\"MSE Score: \",metrics.mean_squared_error(y_test, y_pred))\n",
    "\n",
    "#check R squared value\n",
    "print(\"R squared value: \",lm2.score(X,y))"
   ]
  },
  {
   "cell_type": "code",
   "execution_count": 17,
   "metadata": {},
   "outputs": [
    {
     "name": "stdout",
     "output_type": "stream",
     "text": [
      "RMSE Score:  70289.3250463\n",
      "MAE Score:  43080.7732551\n",
      "MSE Score:  4940589215.46\n",
      "R squared value:  0.326583759647\n"
     ]
    }
   ],
   "source": [
    "# include 3 variables to build a model\n",
    "X = df[['GDP', 'Density', 'No of country']]\n",
    "y = df.Population\n",
    "\n",
    "# Split data\n",
    "X_train, X_test, y_train, y_test = train_test_split(X, y,test_size = 0.25, random_state=0)\n",
    "\n",
    "# Instantiate model\n",
    "lm2 = LinearRegression()\n",
    "\n",
    "# Fit Model\n",
    "lm2.fit(X_train, y_train)\n",
    "\n",
    "# Predict\n",
    "y_pred = lm2.predict(X_test)\n",
    "\n",
    "# RMSE-Root Mean Squared Error\n",
    "print(\"RMSE Score: \",np.sqrt(metrics.mean_squared_error(y_test, y_pred)))\n",
    "\n",
    "#MAE is the mean of the absolute value of the errors:\n",
    "print(\"MAE Score: \",metrics.mean_absolute_error(y_test, y_pred))\n",
    "\n",
    "#MSE is the mean of the squared errors:\n",
    "print(\"MSE Score: \",metrics.mean_squared_error(y_test, y_pred))\n",
    "\n",
    "#check R squared value\n",
    "print(\"R squared value: \",lm2.score(X,y))"
   ]
  },
  {
   "cell_type": "code",
   "execution_count": 18,
   "metadata": {},
   "outputs": [
    {
     "name": "stdout",
     "output_type": "stream",
     "text": [
      "RMSE Score:  69991.5109162\n",
      "MAE Score:  48293.3604666\n",
      "MSE Score:  4898811600.33\n",
      "R squared value:  0.312083307599\n"
     ]
    }
   ],
   "source": [
    "# include all variables to build a model\n",
    "X = df[['GDP', 'Density']]\n",
    "y = df.Population\n",
    "\n",
    "# Split data\n",
    "X_train, X_test, y_train, y_test = train_test_split(X, y,test_size = 0.25, random_state=0)\n",
    "\n",
    "# Instantiate model\n",
    "lm2 = LinearRegression()\n",
    "\n",
    "# Fit Model\n",
    "lm2.fit(X_train, y_train)\n",
    "\n",
    "# Predict\n",
    "y_pred = lm2.predict(X_test)\n",
    "\n",
    "# RMSE-Root Mean Squared Error\n",
    "print(\"RMSE Score: \",np.sqrt(metrics.mean_squared_error(y_test, y_pred)))\n",
    "\n",
    "#MAE is the mean of the absolute value of the errors:\n",
    "print(\"MAE Score: \",metrics.mean_absolute_error(y_test, y_pred))\n",
    "\n",
    "#MSE is the mean of the squared errors:\n",
    "print(\"MSE Score: \",metrics.mean_squared_error(y_test, y_pred))\n",
    "\n",
    "#check R squared value\n",
    "print(\"R squared value: \",lm2.score(X,y))"
   ]
  },
  {
   "cell_type": "code",
   "execution_count": 19,
   "metadata": {},
   "outputs": [
    {
     "name": "stdout",
     "output_type": "stream",
     "text": [
      "RMSE Score:  73018.6946511\n",
      "MAE Score:  65240.1878909\n",
      "MSE Score:  5331729768.56\n",
      "R squared value:  0.15709608284\n"
     ]
    }
   ],
   "source": [
    "# include all variables to build a model\n",
    "X = df[['No of country', 'Density']]\n",
    "y = df.Population\n",
    "\n",
    "# Split data\n",
    "X_train, X_test, y_train, y_test = train_test_split(X, y,test_size = 0.25, random_state=0)\n",
    "\n",
    "# Instantiate model\n",
    "lm2 = LinearRegression()\n",
    "\n",
    "# Fit Model\n",
    "lm2.fit(X_train, y_train)\n",
    "\n",
    "# Predict\n",
    "y_pred = lm2.predict(X_test)\n",
    "\n",
    "# RMSE-Root Mean Squared Error\n",
    "print(\"RMSE Score: \",np.sqrt(metrics.mean_squared_error(y_test, y_pred)))\n",
    "\n",
    "#MAE is the mean of the absolute value of the errors:\n",
    "print(\"MAE Score: \",metrics.mean_absolute_error(y_test, y_pred))\n",
    "\n",
    "#MSE is the mean of the squared errors:\n",
    "print(\"MSE Score: \",metrics.mean_squared_error(y_test, y_pred))\n",
    "\n",
    "#check R squared value\n",
    "print(\"R squared value: \",lm2.score(X,y))"
   ]
  },
  {
   "cell_type": "code",
   "execution_count": 20,
   "metadata": {},
   "outputs": [
    {
     "name": "stdout",
     "output_type": "stream",
     "text": [
      "R squared value:  0.108551501006\n",
      "Predicted GDP for year:  2017 [[ 5078.16380495]]\n",
      "Predicted GDP for year:  2018 [[ 5150.9060783]]\n",
      "Predicted GDP for year:  2019 [[ 5223.64835165]]\n",
      "Predicted GDP for year:  2020 [[ 5296.390625]]\n",
      "Predicted GDP for year:  2021 [[ 5369.13289835]]\n",
      "Predicted GDP for year:  2022 [[ 5441.8751717]]\n"
     ]
    },
    {
     "data": {
      "text/plain": [
       "array([[ 5005.42153159]])"
      ]
     },
     "execution_count": 20,
     "metadata": {},
     "output_type": "execute_result"
    }
   ],
   "source": [
    "#predict the GDP for future using a linear model with Year\n",
    "from sklearn import linear_model\n",
    "X = df[['Year']]\n",
    "y = df[['GDP']]\n",
    "\n",
    "# Split data\n",
    "X_train, X_test, y_train, y_test = train_test_split(X, y,test_size = 0.33, random_state=42)\n",
    "\n",
    "# Instantiate model\n",
    "lm2 = LinearRegression()\n",
    "\n",
    "# Fit Model\n",
    "lm2.fit(X_train, y_train)\n",
    "\n",
    "#R squared value\n",
    "print(\"R squared value: \",lm2.score(X,y))\n",
    "\n",
    "# Predict\n",
    "pred_Den = [0,0,0,0,0,0]\n",
    "for i in range (0,6):\n",
    "    pred_Den[i] = lm2.predict(2017+i)\n",
    "\n",
    "for i in range(0,6):\n",
    "    print(\"Predicted GDP for year: \",(2017+i),pred_Den[i])\n",
    "lm2.predict(2016)      "
   ]
  },
  {
   "cell_type": "code",
   "execution_count": 21,
   "metadata": {},
   "outputs": [
    {
     "name": "stdout",
     "output_type": "stream",
     "text": [
      "R squared value:  0.989160262614\n",
      "Predicted Density for year:  2017 [[ 84.40685926]]\n",
      "Predicted Density for year:  2018 [[ 86.16062974]]\n",
      "Predicted Density for year:  2019 [[ 87.91440022]]\n",
      "Predicted Density for year:  2020 [[ 89.66817071]]\n",
      "Predicted Density for year:  2021 [[ 91.42194119]]\n",
      "Predicted Density for year:  2022 [[ 93.17571168]]\n"
     ]
    },
    {
     "data": {
      "text/plain": [
       "array([[ 82.65308877]])"
      ]
     },
     "execution_count": 21,
     "metadata": {},
     "output_type": "execute_result"
    }
   ],
   "source": [
    "#predict the Density for future using a linear model with Year\n",
    "from sklearn import linear_model\n",
    "X = df[['Year']]\n",
    "y = df[['Density']]\n",
    "\n",
    "# Split data\n",
    "X_train, X_test, y_train, y_test = train_test_split(X, y,test_size = 0.25, random_state=0)\n",
    "\n",
    "# Instantiate model\n",
    "lm2 = LinearRegression()\n",
    "\n",
    "# Fit Model\n",
    "lm2.fit(X_train, y_train)\n",
    "\n",
    "#R squared value\n",
    "print(\"R squared value: \",lm2.score(X,y))\n",
    "\n",
    "# Predict\n",
    "pred_Den = [0,0,0,0,0,0]\n",
    "for i in range (0,6):\n",
    "    pred_Den[i] = lm2.predict(2017+i)\n",
    "\n",
    "for i in range(0,6):\n",
    "    print(\"Predicted Density for year: \",(2017+i),pred_Den[i])\n",
    "lm2.predict(2016)      "
   ]
  },
  {
   "cell_type": "code",
   "execution_count": 22,
   "metadata": {},
   "outputs": [
    {
     "name": "stdout",
     "output_type": "stream",
     "text": [
      "R squared value:  0.528769085151\n",
      "Predicted No of country for year:  2017 [[ 9.36098886]]\n",
      "Predicted No of country for year:  2018 [[ 9.56044573]]\n",
      "Predicted No of country for year:  2019 [[ 9.75990261]]\n",
      "Predicted No of country for year:  2020 [[ 9.95935949]]\n",
      "Predicted No of country for year:  2021 [[ 10.15881637]]\n",
      "Predicted No of country for year:  2022 [[ 10.35827325]]\n"
     ]
    },
    {
     "data": {
      "text/plain": [
       "array([[ 9.16153198]])"
      ]
     },
     "execution_count": 22,
     "metadata": {},
     "output_type": "execute_result"
    }
   ],
   "source": [
    "#predict the No of Country for future using a linear model with Year\n",
    "from sklearn import linear_model\n",
    "X = df[['Year']]\n",
    "y = df[['No of country']]\n",
    "\n",
    "# Split data\n",
    "X_train, X_test, y_train, y_test = train_test_split(X, y,test_size = 0.25, random_state=0)\n",
    "\n",
    "# Instantiate model\n",
    "lm2 = LinearRegression()\n",
    "\n",
    "# Fit Model\n",
    "lm2.fit(X_train, y_train)\n",
    "\n",
    "#R squared value\n",
    "print(\"R squared value: \",lm2.score(X,y))\n",
    "\n",
    "# Predict\n",
    "pred_Den = [0,0,0,0,0,0]\n",
    "for i in range (0,6):\n",
    "    pred_Den[i] = lm2.predict(2017+i)\n",
    "\n",
    "for i in range(0,6):\n",
    "    print(\"Predicted No of country for year: \",(2017+i),pred_Den[i])\n",
    "lm2.predict(2016)      "
   ]
  },
  {
   "cell_type": "code",
   "execution_count": 23,
   "metadata": {},
   "outputs": [
    {
     "name": "stdout",
     "output_type": "stream",
     "text": [
      "Predicted Population for year 2017:  [ 187246.13164756]\n",
      "Predicted Population for year 2018:  [ 192178.5109465]\n",
      "Predicted Population for year 2019:  [ 197110.89014852]\n",
      "Predicted Population for year 2020:  [ 202043.26937583]\n",
      "Predicted Population for year 2021:  [ 206975.64857785]\n",
      "Predicted Population for year 2022:  [ 211908.02780517]\n"
     ]
    }
   ],
   "source": [
    "# Forecasted Population of Lebanon\n",
    "X = df[['GDP','Density','No of country']]\n",
    "y = df.Population\n",
    "\n",
    "# Split data\n",
    "X_train, X_test, y_train, y_test = train_test_split(X, y,test_size = 0.25, random_state=0)\n",
    "\n",
    "# Instantiate model\n",
    "lm2 = LinearRegression()\n",
    "\n",
    "# Fit Model\n",
    "lm2.fit(X_train, y_train)\n",
    "\n",
    "# Predict\n",
    "y_pred = lm2.predict(X_test)\n",
    "    \n",
    "\n",
    "    \n",
    "var_2017 = [[5078.16380495,84.40685926,9.36098886]]\n",
    "var_2018 = [[5150.9060783,86.16062974,9.56044573]]\n",
    "var_2019 = [[5223.64835165,87.91440022,9.75990261]]                               \n",
    "var_2020 = [[5296.390625,89.66817071,9.95935949]]\n",
    "var_2021 = [[5369.13289835,91.42194119,10.15881637]]\n",
    "var_2022 = [[5441.8751717,93.17571168,10.35827325]]\n",
    "\n",
    "print(\"Predicted Population for year 2017: \",lm2.predict(var_2017))\n",
    "print(\"Predicted Population for year 2018: \",lm2.predict(var_2018))\n",
    "print(\"Predicted Population for year 2019: \",lm2.predict(var_2019))\n",
    "print(\"Predicted Population for year 2020: \",lm2.predict(var_2020))\n",
    "print(\"Predicted Population for year 2021: \",lm2.predict(var_2021))\n",
    "print(\"Predicted Population for year 2022: \",lm2.predict(var_2022))\n",
    "\n"
   ]
  },
  {
   "cell_type": "code",
   "execution_count": 24,
   "metadata": {},
   "outputs": [
    {
     "data": {
      "text/plain": [
       "array([ 182313.75241991])"
      ]
     },
     "execution_count": 24,
     "metadata": {},
     "output_type": "execute_result"
    }
   ],
   "source": [
    "lm2.predict([[5005.42153159,82.65308877,9.16153198]])"
   ]
  },
  {
   "cell_type": "code",
   "execution_count": null,
   "metadata": {
    "collapsed": true
   },
   "outputs": [],
   "source": []
  }
 ],
 "metadata": {
  "kernelspec": {
   "display_name": "Python 3",
   "language": "python",
   "name": "python3"
  },
  "language_info": {
   "codemirror_mode": {
    "name": "ipython",
    "version": 3
   },
   "file_extension": ".py",
   "mimetype": "text/x-python",
   "name": "python",
   "nbconvert_exporter": "python",
   "pygments_lexer": "ipython3",
   "version": "3.6.3"
  }
 },
 "nbformat": 4,
 "nbformat_minor": 2
}
