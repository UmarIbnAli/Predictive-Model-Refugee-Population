{
 "cells": [
  {
   "cell_type": "code",
   "execution_count": 1,
   "metadata": {},
   "outputs": [
    {
     "name": "stdout",
     "output_type": "stream",
     "text": [
      "Populating the interactive namespace from numpy and matplotlib\n"
     ]
    },
    {
     "name": "stderr",
     "output_type": "stream",
     "text": [
      "C:\\Users\\Umar Ibn Ali\\Anaconda3\\lib\\site-packages\\IPython\\core\\magics\\pylab.py:160: UserWarning: pylab import has clobbered these variables: ['pylab']\n",
      "`%matplotlib` prevents importing * from pylab and numpy\n",
      "  \"\\n`%matplotlib` prevents importing * from pylab and numpy\"\n"
     ]
    }
   ],
   "source": [
    "#Load necessary libraries\n",
    "import pylab\n",
    "%pylab inline\n",
    "import numpy as np\n",
    "import pandas as pd\n",
    "import matplotlib as plt\n",
    "from sklearn.linear_model import LinearRegression\n",
    "from sklearn.model_selection import train_test_split\n",
    "from sklearn import metrics"
   ]
  },
  {
   "cell_type": "code",
   "execution_count": 2,
   "metadata": {
    "collapsed": true
   },
   "outputs": [],
   "source": [
    "#load dataset in pandas\n",
    "df= pd.read_csv(\"/Users/Umar Ibn Ali/Desktop/FYP/Model/Pakistan_dataset_re.csv\")"
   ]
  },
  {
   "cell_type": "code",
   "execution_count": 3,
   "metadata": {},
   "outputs": [
    {
     "data": {
      "text/html": [
       "<div>\n",
       "<style>\n",
       "    .dataframe thead tr:only-child th {\n",
       "        text-align: right;\n",
       "    }\n",
       "\n",
       "    .dataframe thead th {\n",
       "        text-align: left;\n",
       "    }\n",
       "\n",
       "    .dataframe tbody tr th {\n",
       "        vertical-align: top;\n",
       "    }\n",
       "</style>\n",
       "<table border=\"1\" class=\"dataframe\">\n",
       "  <thead>\n",
       "    <tr style=\"text-align: right;\">\n",
       "      <th></th>\n",
       "      <th>Year</th>\n",
       "      <th>GPI</th>\n",
       "      <th>GDP</th>\n",
       "      <th>No of country</th>\n",
       "      <th>Density</th>\n",
       "      <th>Pos Sent</th>\n",
       "      <th>Neg Sent</th>\n",
       "      <th>Neu Sent</th>\n",
       "      <th>Population</th>\n",
       "    </tr>\n",
       "  </thead>\n",
       "  <tbody>\n",
       "    <tr>\n",
       "      <th>0</th>\n",
       "      <td>1992</td>\n",
       "      <td>NaN</td>\n",
       "      <td>566</td>\n",
       "      <td>5</td>\n",
       "      <td>147.39</td>\n",
       "      <td>NaN</td>\n",
       "      <td>NaN</td>\n",
       "      <td>NaN</td>\n",
       "      <td>1629218</td>\n",
       "    </tr>\n",
       "    <tr>\n",
       "      <th>1</th>\n",
       "      <td>1993</td>\n",
       "      <td>NaN</td>\n",
       "      <td>584</td>\n",
       "      <td>6</td>\n",
       "      <td>151.23</td>\n",
       "      <td>NaN</td>\n",
       "      <td>NaN</td>\n",
       "      <td>NaN</td>\n",
       "      <td>1479266</td>\n",
       "    </tr>\n",
       "    <tr>\n",
       "      <th>2</th>\n",
       "      <td>1994</td>\n",
       "      <td>NaN</td>\n",
       "      <td>574</td>\n",
       "      <td>7</td>\n",
       "      <td>155.10</td>\n",
       "      <td>NaN</td>\n",
       "      <td>NaN</td>\n",
       "      <td>NaN</td>\n",
       "      <td>1055435</td>\n",
       "    </tr>\n",
       "    <tr>\n",
       "      <th>3</th>\n",
       "      <td>1995</td>\n",
       "      <td>NaN</td>\n",
       "      <td>654</td>\n",
       "      <td>5</td>\n",
       "      <td>159.04</td>\n",
       "      <td>NaN</td>\n",
       "      <td>NaN</td>\n",
       "      <td>NaN</td>\n",
       "      <td>1202493</td>\n",
       "    </tr>\n",
       "    <tr>\n",
       "      <th>4</th>\n",
       "      <td>1996</td>\n",
       "      <td>NaN</td>\n",
       "      <td>666</td>\n",
       "      <td>5</td>\n",
       "      <td>163.06</td>\n",
       "      <td>NaN</td>\n",
       "      <td>NaN</td>\n",
       "      <td>NaN</td>\n",
       "      <td>1202703</td>\n",
       "    </tr>\n",
       "  </tbody>\n",
       "</table>\n",
       "</div>"
      ],
      "text/plain": [
       "   Year  GPI  GDP  No of country  Density  Pos Sent  Neg Sent  Neu Sent  \\\n",
       "0  1992  NaN  566              5   147.39       NaN       NaN       NaN   \n",
       "1  1993  NaN  584              6   151.23       NaN       NaN       NaN   \n",
       "2  1994  NaN  574              7   155.10       NaN       NaN       NaN   \n",
       "3  1995  NaN  654              5   159.04       NaN       NaN       NaN   \n",
       "4  1996  NaN  666              5   163.06       NaN       NaN       NaN   \n",
       "\n",
       "   Population  \n",
       "0     1629218  \n",
       "1     1479266  \n",
       "2     1055435  \n",
       "3     1202493  \n",
       "4     1202703  "
      ]
     },
     "execution_count": 3,
     "metadata": {},
     "output_type": "execute_result"
    }
   ],
   "source": [
    "#check dataset\n",
    "df.head()"
   ]
  },
  {
   "cell_type": "code",
   "execution_count": 4,
   "metadata": {},
   "outputs": [
    {
     "data": {
      "text/html": [
       "<div>\n",
       "<style>\n",
       "    .dataframe thead tr:only-child th {\n",
       "        text-align: right;\n",
       "    }\n",
       "\n",
       "    .dataframe thead th {\n",
       "        text-align: left;\n",
       "    }\n",
       "\n",
       "    .dataframe tbody tr th {\n",
       "        vertical-align: top;\n",
       "    }\n",
       "</style>\n",
       "<table border=\"1\" class=\"dataframe\">\n",
       "  <thead>\n",
       "    <tr style=\"text-align: right;\">\n",
       "      <th></th>\n",
       "      <th>Year</th>\n",
       "      <th>GPI</th>\n",
       "      <th>GDP</th>\n",
       "      <th>No of country</th>\n",
       "      <th>Density</th>\n",
       "      <th>Pos Sent</th>\n",
       "      <th>Neg Sent</th>\n",
       "      <th>Neu Sent</th>\n",
       "      <th>Population</th>\n",
       "    </tr>\n",
       "  </thead>\n",
       "  <tbody>\n",
       "    <tr>\n",
       "      <th>count</th>\n",
       "      <td>25.000000</td>\n",
       "      <td>9.000000</td>\n",
       "      <td>25.000000</td>\n",
       "      <td>25.000000</td>\n",
       "      <td>25.000000</td>\n",
       "      <td>3.000000</td>\n",
       "      <td>3.000000</td>\n",
       "      <td>3.000000</td>\n",
       "      <td>2.500000e+01</td>\n",
       "    </tr>\n",
       "    <tr>\n",
       "      <th>mean</th>\n",
       "      <td>2004.000000</td>\n",
       "      <td>3.019111</td>\n",
       "      <td>854.640000</td>\n",
       "      <td>14.160000</td>\n",
       "      <td>196.378000</td>\n",
       "      <td>30.616667</td>\n",
       "      <td>25.210000</td>\n",
       "      <td>44.166667</td>\n",
       "      <td>1.479307e+06</td>\n",
       "    </tr>\n",
       "    <tr>\n",
       "      <th>std</th>\n",
       "      <td>7.359801</td>\n",
       "      <td>0.112864</td>\n",
       "      <td>307.502016</td>\n",
       "      <td>4.543127</td>\n",
       "      <td>31.140714</td>\n",
       "      <td>5.461175</td>\n",
       "      <td>6.220233</td>\n",
       "      <td>3.696056</td>\n",
       "      <td>3.359383e+05</td>\n",
       "    </tr>\n",
       "    <tr>\n",
       "      <th>min</th>\n",
       "      <td>1992.000000</td>\n",
       "      <td>2.833000</td>\n",
       "      <td>542.000000</td>\n",
       "      <td>5.000000</td>\n",
       "      <td>147.390000</td>\n",
       "      <td>25.490000</td>\n",
       "      <td>18.180000</td>\n",
       "      <td>40.000000</td>\n",
       "      <td>1.044462e+06</td>\n",
       "    </tr>\n",
       "    <tr>\n",
       "      <th>25%</th>\n",
       "      <td>1998.000000</td>\n",
       "      <td>2.905000</td>\n",
       "      <td>584.000000</td>\n",
       "      <td>15.000000</td>\n",
       "      <td>171.250000</td>\n",
       "      <td>27.745000</td>\n",
       "      <td>22.815000</td>\n",
       "      <td>42.725000</td>\n",
       "      <td>1.202493e+06</td>\n",
       "    </tr>\n",
       "    <tr>\n",
       "      <th>50%</th>\n",
       "      <td>2004.000000</td>\n",
       "      <td>3.050000</td>\n",
       "      <td>705.000000</td>\n",
       "      <td>16.000000</td>\n",
       "      <td>194.930000</td>\n",
       "      <td>30.000000</td>\n",
       "      <td>27.450000</td>\n",
       "      <td>45.450000</td>\n",
       "      <td>1.479266e+06</td>\n",
       "    </tr>\n",
       "    <tr>\n",
       "      <th>75%</th>\n",
       "      <td>2010.000000</td>\n",
       "      <td>3.106000</td>\n",
       "      <td>1033.000000</td>\n",
       "      <td>16.000000</td>\n",
       "      <td>220.580000</td>\n",
       "      <td>33.180000</td>\n",
       "      <td>28.725000</td>\n",
       "      <td>46.250000</td>\n",
       "      <td>1.702700e+06</td>\n",
       "    </tr>\n",
       "    <tr>\n",
       "      <th>max</th>\n",
       "      <td>2016.000000</td>\n",
       "      <td>3.145000</td>\n",
       "      <td>1441.000000</td>\n",
       "      <td>20.000000</td>\n",
       "      <td>250.600000</td>\n",
       "      <td>36.360000</td>\n",
       "      <td>30.000000</td>\n",
       "      <td>47.050000</td>\n",
       "      <td>2.198797e+06</td>\n",
       "    </tr>\n",
       "  </tbody>\n",
       "</table>\n",
       "</div>"
      ],
      "text/plain": [
       "              Year       GPI          GDP  No of country     Density  \\\n",
       "count    25.000000  9.000000    25.000000      25.000000   25.000000   \n",
       "mean   2004.000000  3.019111   854.640000      14.160000  196.378000   \n",
       "std       7.359801  0.112864   307.502016       4.543127   31.140714   \n",
       "min    1992.000000  2.833000   542.000000       5.000000  147.390000   \n",
       "25%    1998.000000  2.905000   584.000000      15.000000  171.250000   \n",
       "50%    2004.000000  3.050000   705.000000      16.000000  194.930000   \n",
       "75%    2010.000000  3.106000  1033.000000      16.000000  220.580000   \n",
       "max    2016.000000  3.145000  1441.000000      20.000000  250.600000   \n",
       "\n",
       "        Pos Sent   Neg Sent   Neu Sent    Population  \n",
       "count   3.000000   3.000000   3.000000  2.500000e+01  \n",
       "mean   30.616667  25.210000  44.166667  1.479307e+06  \n",
       "std     5.461175   6.220233   3.696056  3.359383e+05  \n",
       "min    25.490000  18.180000  40.000000  1.044462e+06  \n",
       "25%    27.745000  22.815000  42.725000  1.202493e+06  \n",
       "50%    30.000000  27.450000  45.450000  1.479266e+06  \n",
       "75%    33.180000  28.725000  46.250000  1.702700e+06  \n",
       "max    36.360000  30.000000  47.050000  2.198797e+06  "
      ]
     },
     "execution_count": 4,
     "metadata": {},
     "output_type": "execute_result"
    }
   ],
   "source": [
    "#statistics of dataset\n",
    "df.describe()"
   ]
  },
  {
   "cell_type": "code",
   "execution_count": 5,
   "metadata": {},
   "outputs": [
    {
     "data": {
      "text/plain": [
       "Year              0\n",
       "GPI              16\n",
       "GDP               0\n",
       "No of country     0\n",
       "Density           0\n",
       "Pos Sent         22\n",
       "Neg Sent         22\n",
       "Neu Sent         22\n",
       "Population        0\n",
       "dtype: int64"
      ]
     },
     "execution_count": 5,
     "metadata": {},
     "output_type": "execute_result"
    }
   ],
   "source": [
    "#check the columns with missing values\n",
    "df.apply(lambda x: sum(x.isnull()),axis=0)"
   ]
  },
  {
   "cell_type": "code",
   "execution_count": 6,
   "metadata": {
    "collapsed": true
   },
   "outputs": [],
   "source": [
    "#fill the missing values with mean\n",
    "m = df['Pos Sent'].mean()\n",
    "df['Pos Sent'].fillna (m,inplace=True)\n",
    "\n",
    "n = df['Neg Sent'].mean()\n",
    "df['Neg Sent'].fillna(n,inplace=True)\n",
    "\n",
    "k = df['Neu Sent'].mean()\n",
    "df['Neu Sent'].fillna(k,inplace=True)\n",
    "\n",
    "l = df['GPI'].mean()\n",
    "df['GPI'].fillna(l,inplace = True)"
   ]
  },
  {
   "cell_type": "code",
   "execution_count": 7,
   "metadata": {},
   "outputs": [
    {
     "data": {
      "text/plain": [
       "Year             0\n",
       "GPI              0\n",
       "GDP              0\n",
       "No of country    0\n",
       "Density          0\n",
       "Pos Sent         0\n",
       "Neg Sent         0\n",
       "Neu Sent         0\n",
       "Population       0\n",
       "dtype: int64"
      ]
     },
     "execution_count": 7,
     "metadata": {},
     "output_type": "execute_result"
    }
   ],
   "source": [
    "#check the columns with missing values\n",
    "df.apply(lambda x: sum(x.isnull()),axis=0)"
   ]
  },
  {
   "cell_type": "code",
   "execution_count": 8,
   "metadata": {},
   "outputs": [
    {
     "data": {
      "text/plain": [
       "<matplotlib.axes._subplots.AxesSubplot at 0x21c65fc6be0>"
      ]
     },
     "execution_count": 8,
     "metadata": {},
     "output_type": "execute_result"
    },
    {
     "data": {
      "image/png": "[encoded data removed]",
      "text/plain": [
       "<matplotlib.figure.Figure at 0x21c69ad6748>"
      ]
     },
     "metadata": {},
     "output_type": "display_data"
    }
   ],
   "source": [
    "#check population histogram\n",
    "df['Population'].hist(bins=25)"
   ]
  },
  {
   "cell_type": "code",
   "execution_count": 9,
   "metadata": {},
   "outputs": [
    {
     "data": {
      "image/png": "[encoded data removed]",
      "text/plain": [
       "<matplotlib.figure.Figure at 0x21c69d96ba8>"
      ]
     },
     "metadata": {},
     "output_type": "display_data"
    }
   ],
   "source": [
    "#check relationship between GDP and Population\n",
    "import matplotlib.pyplot as plt\n",
    "plt.scatter(df['GDP'], df['Population'])\n",
    "plt.show() "
   ]
  },
  {
   "cell_type": "code",
   "execution_count": 10,
   "metadata": {},
   "outputs": [
    {
     "data": {
      "image/png": "[encoded data removed]",
      "text/plain": [
       "<matplotlib.figure.Figure at 0x21c69f98080>"
      ]
     },
     "metadata": {},
     "output_type": "display_data"
    }
   ],
   "source": [
    "#check relationship between Density and Population\n",
    "plt.scatter(df['Density'], df['Population'])\n",
    "plt.show() "
   ]
  },
  {
   "cell_type": "code",
   "execution_count": 11,
   "metadata": {},
   "outputs": [
    {
     "data": {
      "image/png": "[encoded data removed]",
      "text/plain": [
       "<matplotlib.figure.Figure at 0x21c69f8c7f0>"
      ]
     },
     "metadata": {},
     "output_type": "display_data"
    }
   ],
   "source": [
    "#check relationship between No of country and Population\n",
    "plt.scatter(df['No of country'], df['Population'])\n",
    "plt.show() "
   ]
  },
  {
   "cell_type": "code",
   "execution_count": 12,
   "metadata": {},
   "outputs": [
    {
     "data": {
      "image/png": "[encoded data removed]",
      "text/plain": [
       "<matplotlib.figure.Figure at 0x21c69fbaf28>"
      ]
     },
     "metadata": {},
     "output_type": "display_data"
    }
   ],
   "source": [
    "#check relationship between GPI and Population\n",
    "plt.scatter(df['GPI'], df['Population'])\n",
    "plt.show() "
   ]
  },
  {
   "cell_type": "code",
   "execution_count": 13,
   "metadata": {},
   "outputs": [
    {
     "name": "stdout",
     "output_type": "stream",
     "text": [
      "Intercept:  1236056.46067\n",
      "Coefficient:  [ 284.62325579]\n",
      "R squared value:  0.0678762108132\n"
     ]
    }
   ],
   "source": [
    "#check GDP and Population linear relationship\n",
    "feature_cols = ['GDP']\n",
    "X = df[feature_cols]\n",
    "y = df.Population\n",
    "lm = LinearRegression()\n",
    "lm.fit(X, y)\n",
    "\n",
    "# print the coefficients\n",
    "print(\"Intercept: \",lm.intercept_)\n",
    "print(\"Coefficient: \",lm.coef_)\n",
    "\n",
    "#check R squared value\n",
    "print(\"R squared value: \",lm.score(X, y))"
   ]
  },
  {
   "cell_type": "code",
   "execution_count": 14,
   "metadata": {},
   "outputs": [
    {
     "name": "stdout",
     "output_type": "stream",
     "text": [
      "Intercept:  852873.458755\n",
      "Coefficient:  [ 3189.93686281]\n",
      "R squared value:  0.0874384002164\n"
     ]
    }
   ],
   "source": [
    "#check Density and Population linear relationship\n",
    "feature_cols = ['Density']\n",
    "X = df[feature_cols]\n",
    "y = df.Population\n",
    "lm = LinearRegression()\n",
    "lm.fit(X, y)\n",
    "\n",
    "# print the coefficients\n",
    "print(\"Intercept: \",lm.intercept_)\n",
    "print(\"Coefficient: \",lm.coef_)\n",
    "\n",
    "#check R squared value\n",
    "print(\"R squared value: \",lm.score(X, y))"
   ]
  },
  {
   "cell_type": "code",
   "execution_count": 15,
   "metadata": {},
   "outputs": [
    {
     "name": "stdout",
     "output_type": "stream",
     "text": [
      "Intercept:  1135035.09157\n",
      "Coefficient:  [ 24312.97940891]\n",
      "R squared value:  0.10811026887\n"
     ]
    }
   ],
   "source": [
    "#check No of Country and Population linear relationship\n",
    "feature_cols = ['No of country']\n",
    "X = df[feature_cols]\n",
    "y = df.Population\n",
    "lm = LinearRegression()\n",
    "lm.fit(X, y)\n",
    "\n",
    "# print the coefficients\n",
    "print(\"Intercept: \",lm.intercept_)\n",
    "print(\"Coefficient: \",lm.coef_)\n",
    "\n",
    "#check R squared value\n",
    "print(\"R squared value: \",lm.score(X, y))"
   ]
  },
  {
   "cell_type": "code",
   "execution_count": 16,
   "metadata": {},
   "outputs": [
    {
     "name": "stdout",
     "output_type": "stream",
     "text": [
      "Intercept:  3333216.35749\n",
      "Coefficient:  [-614058.04863263]\n",
      "R squared value:  0.0141870483157\n"
     ]
    }
   ],
   "source": [
    "#check GPI and Population linear relationship\n",
    "feature_cols = ['GPI']\n",
    "X = df[feature_cols]\n",
    "y = df.Population\n",
    "lm = LinearRegression()\n",
    "lm.fit(X, y)\n",
    "\n",
    "# print the coefficients\n",
    "print(\"Intercept: \",lm.intercept_)\n",
    "print(\"Coefficient: \",lm.coef_)\n",
    "\n",
    "#check R squared value\n",
    "print(\"R squared value: \",lm.score(X, y))"
   ]
  },
  {
   "cell_type": "code",
   "execution_count": 17,
   "metadata": {},
   "outputs": [
    {
     "name": "stdout",
     "output_type": "stream",
     "text": [
      "Intercept:  1947814.70782\n",
      "Coefficient:  [-15302.37869845]\n",
      "R squared value:  0.00515691218174\n"
     ]
    }
   ],
   "source": [
    "#check Positive Sentiment and Population linear relationship\n",
    "feature_cols = ['Pos Sent']\n",
    "X = df[feature_cols]\n",
    "y = df.Population\n",
    "lm = LinearRegression()\n",
    "lm.fit(X, y)\n",
    "\n",
    "# print the coefficients\n",
    "print(\"Intercept: \",lm.intercept_)\n",
    "print(\"Coefficient: \",lm.coef_)\n",
    "\n",
    "#check R squared value\n",
    "print(\"R squared value: \",lm.score(X, y))"
   ]
  },
  {
   "cell_type": "code",
   "execution_count": 18,
   "metadata": {},
   "outputs": [
    {
     "name": "stdout",
     "output_type": "stream",
     "text": [
      "RMSE Score:  241509.665765\n",
      "MAE Score:  215087.433897\n",
      "MSE Score:  58326918658.0\n",
      "R squared value:  0.129680519386\n"
     ]
    }
   ],
   "source": [
    "# include key variables to build the model\n",
    "X = df[['GDP', 'Density','No of country','GPI']]\n",
    "y = df.Population\n",
    "\n",
    "# Split data\n",
    "X_train, X_test, y_train, y_test = train_test_split(X, y,test_size = 0.25, random_state=0)\n",
    "\n",
    "# Instantiate model\n",
    "lm2 = LinearRegression()\n",
    "\n",
    "# Fit Model\n",
    "lm2.fit(X_train, y_train)\n",
    "\n",
    "# Predict\n",
    "y_pred = lm2.predict(X_test)\n",
    "\n",
    "# RMSE-Root Mean Squared Error\n",
    "print(\"RMSE Score: \",np.sqrt(metrics.mean_squared_error(y_test, y_pred)))\n",
    "\n",
    "#MAE is the mean of the absolute value of the errors:\n",
    "print(\"MAE Score: \",metrics.mean_absolute_error(y_test, y_pred))\n",
    "\n",
    "#MSE is the mean of the squared errors:\n",
    "print(\"MSE Score: \",metrics.mean_squared_error(y_test, y_pred))\n",
    "\n",
    "#check R squared value\n",
    "print(\"R squared value: \",lm2.score(X,y))"
   ]
  },
  {
   "cell_type": "code",
   "execution_count": 19,
   "metadata": {},
   "outputs": [
    {
     "name": "stdout",
     "output_type": "stream",
     "text": [
      "RMSE Score:  251029.595801\n",
      "MAE Score:  227698.790919\n",
      "MSE Score:  63015857968.1\n",
      "R squared value:  0.113022474056\n"
     ]
    }
   ],
   "source": [
    "# include key variables to build the model\n",
    "X = df[['GDP', 'Density','No of country']]\n",
    "y = df.Population\n",
    "\n",
    "# Split data\n",
    "X_train, X_test, y_train, y_test = train_test_split(X, y,test_size = 0.25, random_state=0)\n",
    "\n",
    "# Instantiate model\n",
    "lm2 = LinearRegression()\n",
    "\n",
    "# Fit Model\n",
    "lm2.fit(X_train, y_train)\n",
    "\n",
    "# Predict\n",
    "y_pred = lm2.predict(X_test)\n",
    "\n",
    "# RMSE-Root Mean Squared Error\n",
    "print(\"RMSE Score: \",np.sqrt(metrics.mean_squared_error(y_test, y_pred)))\n",
    "\n",
    "#MAE is the mean of the absolute value of the errors:\n",
    "print(\"MAE Score: \",metrics.mean_absolute_error(y_test, y_pred))\n",
    "\n",
    "#MSE is the mean of the squared errors:\n",
    "print(\"MSE Score: \",metrics.mean_squared_error(y_test, y_pred))\n",
    "\n",
    "#check R squared value\n",
    "print(\"R squared value: \",lm2.score(X,y))"
   ]
  },
  {
   "cell_type": "code",
   "execution_count": 20,
   "metadata": {},
   "outputs": [
    {
     "name": "stdout",
     "output_type": "stream",
     "text": [
      "RMSE Score:  262255.873984\n",
      "MAE Score:  237434.205619\n",
      "MSE Score:  68778143438.9\n",
      "R squared value:  0.0943883571488\n"
     ]
    }
   ],
   "source": [
    "# include key variables to build the model\n",
    "X = df[['Density','No of country']]\n",
    "y = df.Population\n",
    "\n",
    "# Split data\n",
    "X_train, X_test, y_train, y_test = train_test_split(X, y,test_size = 0.25, random_state=0)\n",
    "\n",
    "# Instantiate model\n",
    "lm2 = LinearRegression()\n",
    "\n",
    "# Fit Model\n",
    "lm2.fit(X_train, y_train)\n",
    "\n",
    "# Predict\n",
    "y_pred = lm2.predict(X_test)\n",
    "\n",
    "# RMSE-Root Mean Squared Error\n",
    "print(\"RMSE Score: \",np.sqrt(metrics.mean_squared_error(y_test, y_pred)))\n",
    "\n",
    "#MAE is the mean of the absolute value of the errors:\n",
    "print(\"MAE Score: \",metrics.mean_absolute_error(y_test, y_pred))\n",
    "\n",
    "#MSE is the mean of the squared errors:\n",
    "print(\"MSE Score: \",metrics.mean_squared_error(y_test, y_pred))\n",
    "\n",
    "#check R squared value\n",
    "print(\"R squared value: \",lm2.score(X,y))"
   ]
  },
  {
   "cell_type": "code",
   "execution_count": 21,
   "metadata": {},
   "outputs": [
    {
     "name": "stdout",
     "output_type": "stream",
     "text": [
      "RMSE Score:  273319.2278\n",
      "MAE Score:  248168.513494\n",
      "MSE Score:  74703400285.4\n",
      "R squared value:  0.0587697562948\n"
     ]
    }
   ],
   "source": [
    "# include 2 key variables to build the model\n",
    "X = df[['GDP','Density']]\n",
    "y = df.Population\n",
    "\n",
    "# Split data\n",
    "X_train, X_test, y_train, y_test = train_test_split(X, y,test_size = 0.25, random_state=0)\n",
    "\n",
    "# Instantiate model\n",
    "lm2 = LinearRegression()\n",
    "\n",
    "# Fit Model\n",
    "lm2.fit(X_train, y_train)\n",
    "\n",
    "# Predict\n",
    "y_pred = lm2.predict(X_test)\n",
    "\n",
    "# RMSE-Root Mean Squared Error\n",
    "print(\"RMSE Score: \",np.sqrt(metrics.mean_squared_error(y_test, y_pred)))\n",
    "\n",
    "#MAE is the mean of the absolute value of the errors:\n",
    "print(\"MAE Score: \",metrics.mean_absolute_error(y_test, y_pred))\n",
    "\n",
    "#MSE is the mean of the squared errors:\n",
    "print(\"MSE Score: \",metrics.mean_squared_error(y_test, y_pred))\n",
    "\n",
    "#check R squared value\n",
    "print(\"R squared value: \",lm2.score(X,y))"
   ]
  },
  {
   "cell_type": "code",
   "execution_count": 22,
   "metadata": {},
   "outputs": [
    {
     "name": "stdout",
     "output_type": "stream",
     "text": [
      "R squared value:  0.844844442014\n",
      "Predicted GDP for year:  2017 [[ 1359.55356998]]\n",
      "Predicted GDP for year:  2018 [[ 1398.16862968]]\n",
      "Predicted GDP for year:  2019 [[ 1436.78368938]]\n",
      "Predicted GDP for year:  2020 [[ 1475.39874909]]\n",
      "Predicted GDP for year:  2021 [[ 1514.01380879]]\n",
      "Predicted GDP for year:  2022 [[ 1552.62886849]]\n"
     ]
    },
    {
     "data": {
      "text/plain": [
       "array([[ 1320.93851028]])"
      ]
     },
     "execution_count": 22,
     "metadata": {},
     "output_type": "execute_result"
    }
   ],
   "source": [
    "#predict the GDP for future using a linear model with Year\n",
    "from sklearn import linear_model\n",
    "X = df[['Year']]\n",
    "y = df[['GDP']]\n",
    "\n",
    "# Split data\n",
    "X_train, X_test, y_train, y_test = train_test_split(X, y,test_size = 0.33, random_state=42)\n",
    "\n",
    "# Instantiate model\n",
    "lm2 = LinearRegression()\n",
    "\n",
    "# Fit Model\n",
    "lm2.fit(X_train, y_train)\n",
    "\n",
    "#R squared value\n",
    "print(\"R squared value: \",lm2.score(X,y))\n",
    "\n",
    "# Predict\n",
    "pred_Den = [0,0,0,0,0,0]\n",
    "for i in range (0,6):\n",
    "    pred_Den[i] = lm2.predict(2017+i)\n",
    "\n",
    "for i in range(0,6):\n",
    "    print(\"Predicted GDP for year: \",(2017+i),pred_Den[i])\n",
    "lm2.predict(2016)      "
   ]
  },
  {
   "cell_type": "code",
   "execution_count": 23,
   "metadata": {},
   "outputs": [
    {
     "name": "stdout",
     "output_type": "stream",
     "text": [
      "R squared value:  0.997842853697\n",
      "Predicted Density for year:  2017 [[ 251.13239786]]\n",
      "Predicted Density for year:  2018 [[ 255.35490212]]\n",
      "Predicted Density for year:  2019 [[ 259.57740638]]\n",
      "Predicted Density for year:  2020 [[ 263.79991065]]\n",
      "Predicted Density for year:  2021 [[ 268.02241491]]\n",
      "Predicted Density for year:  2022 [[ 272.24491918]]\n"
     ]
    },
    {
     "data": {
      "text/plain": [
       "array([[ 246.90989359]])"
      ]
     },
     "execution_count": 23,
     "metadata": {},
     "output_type": "execute_result"
    }
   ],
   "source": [
    "#predict the Density for future using a linear model with Year\n",
    "from sklearn import linear_model\n",
    "X = df[['Year']]\n",
    "y = df[['Density']]\n",
    "\n",
    "# Split data\n",
    "X_train, X_test, y_train, y_test = train_test_split(X, y,test_size = 0.33, random_state=42)\n",
    "\n",
    "# Instantiate model\n",
    "lm2 = LinearRegression()\n",
    "\n",
    "# Fit Model\n",
    "lm2.fit(X_train, y_train)\n",
    "\n",
    "#R squared value\n",
    "print(\"R squared value: \",lm2.score(X,y))\n",
    "\n",
    "# Predict\n",
    "pred_Den = [0,0,0,0,0,0]\n",
    "for i in range (0,6):\n",
    "    pred_Den[i] = lm2.predict(2017+i)\n",
    "\n",
    "for i in range(0,6):\n",
    "    print(\"Predicted Density for year: \",(2017+i),pred_Den[i])\n",
    "lm2.predict(2016)    "
   ]
  },
  {
   "cell_type": "code",
   "execution_count": 24,
   "metadata": {},
   "outputs": [
    {
     "name": "stdout",
     "output_type": "stream",
     "text": [
      "R squared value:  0.475605598109\n",
      "Predicted No of country for year:  2017 [[ 19.32604987]]\n",
      "Predicted No of country for year:  2018 [[ 19.74583706]]\n",
      "Predicted No of country for year:  2019 [[ 20.16562424]]\n",
      "Predicted No of country for year:  2020 [[ 20.58541142]]\n",
      "Predicted No of country for year:  2021 [[ 21.0051986]]\n",
      "Predicted No of country for year:  2022 [[ 21.42498579]]\n"
     ]
    },
    {
     "data": {
      "text/plain": [
       "array([[ 18.90626269]])"
      ]
     },
     "execution_count": 24,
     "metadata": {},
     "output_type": "execute_result"
    }
   ],
   "source": [
    "#predict the No of Country for future using a linear model with Year\n",
    "from sklearn import linear_model\n",
    "X = df[['Year']]\n",
    "y = df[['No of country']]\n",
    "\n",
    "# Split data\n",
    "X_train, X_test, y_train, y_test = train_test_split(X, y,test_size = 0.33, random_state=42)\n",
    "\n",
    "# Instantiate model\n",
    "lm2 = LinearRegression()\n",
    "\n",
    "# Fit Model\n",
    "lm2.fit(X_train, y_train)\n",
    "\n",
    "#R squared value\n",
    "print(\"R squared value: \",lm2.score(X,y))\n",
    "\n",
    "# Predict\n",
    "pred_Den = [0,0,0,0,0,0]\n",
    "for i in range (0,6):\n",
    "    pred_Den[i] = lm2.predict(2017+i)\n",
    "\n",
    "for i in range(0,6):\n",
    "    print(\"Predicted No of country for year: \",(2017+i),pred_Den[i])\n",
    "lm2.predict(2016)      "
   ]
  },
  {
   "cell_type": "code",
   "execution_count": 25,
   "metadata": {},
   "outputs": [
    {
     "name": "stdout",
     "output_type": "stream",
     "text": [
      "Predicted Population for year 2017:  [ 1574297.49954585]\n",
      "Predicted Population for year 2018:  [ 1581124.44419282]\n",
      "Predicted Population for year 2019:  [ 1587951.38855342]\n",
      "Predicted Population for year 2020:  [ 1594778.33287266]\n",
      "Predicted Population for year 2021:  [ 1601605.27723325]\n",
      "Predicted Population for year 2022:  [ 1608432.2218353]\n"
     ]
    },
    {
     "data": {
      "text/plain": [
       "array([ 1567470.55523018])"
      ]
     },
     "execution_count": 25,
     "metadata": {},
     "output_type": "execute_result"
    }
   ],
   "source": [
    "# Forecasted Population of Pakistan\n",
    "X = df[['GDP', 'Density','No of country']]\n",
    "y = df.Population\n",
    "\n",
    "# Split data\n",
    "X_train, X_test, y_train, y_test = train_test_split(X, y,test_size = 0.25,random_state=0)\n",
    "\n",
    "# Instantiate model\n",
    "lm2 = LinearRegression()\n",
    "\n",
    "# Fit Model\n",
    "lm2.fit(X_train, y_train)\n",
    "\n",
    "# Predict\n",
    "y_pred = lm2.predict(X_test)\n",
    "\n",
    "var_2017 = [[1359.55356998,251.13239786,19.32604987]]\n",
    "var_2018 = [[1398.16862968,255.35490212,19.74583706]]\n",
    "var_2019 = [[1436.78368938,259.57740638,20.16562424]]                               \n",
    "var_2020 = [[1475.39874909,263.79991065,20.58541142]]\n",
    "var_2021 = [[1514.01380879,268.02241491,21.0051986]]\n",
    "var_2022 = [[1552.62886849,272.24491918,21.42498579]]\n",
    "                                                    \n",
    "print(\"Predicted Population for year 2017: \",lm2.predict(var_2017))\n",
    "print(\"Predicted Population for year 2018: \",lm2.predict(var_2018))\n",
    "print(\"Predicted Population for year 2019: \",lm2.predict(var_2019))\n",
    "print(\"Predicted Population for year 2020: \",lm2.predict(var_2020))\n",
    "print(\"Predicted Population for year 2021: \",lm2.predict(var_2021))\n",
    "print(\"Predicted Population for year 2022: \",lm2.predict(var_2022))\n",
    "\n",
    "var_2016= [[1320.93851028,246.90989359,18.90626269]]\n",
    "lm2.predict(var_2016)"
   ]
  },
  {
   "cell_type": "code",
   "execution_count": null,
   "metadata": {
    "collapsed": true
   },
   "outputs": [],
   "source": []
  }
 ],
 "metadata": {
  "kernelspec": {
   "display_name": "Python 3",
   "language": "python",
   "name": "python3"
  },
  "language_info": {
   "codemirror_mode": {
    "name": "ipython",
    "version": 3
   },
   "file_extension": ".py",
   "mimetype": "text/x-python",
   "name": "python",
   "nbconvert_exporter": "python",
   "pygments_lexer": "ipython3",
   "version": "3.6.3"
  }
 },
 "nbformat": 4,
 "nbformat_minor": 2
}
