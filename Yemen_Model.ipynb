{
 "cells": [
  {
   "cell_type": "code",
   "execution_count": 1,
   "metadata": {},
   "outputs": [
    {
     "name": "stdout",
     "output_type": "stream",
     "text": [
      "Populating the interactive namespace from numpy and matplotlib\n"
     ]
    },
    {
     "name": "stderr",
     "output_type": "stream",
     "text": [
      "C:\\Users\\Umar Ibn Ali\\Anaconda3\\lib\\site-packages\\IPython\\core\\magics\\pylab.py:160: UserWarning: pylab import has clobbered these variables: ['pylab']\n",
      "`%matplotlib` prevents importing * from pylab and numpy\n",
      "  \"\\n`%matplotlib` prevents importing * from pylab and numpy\"\n"
     ]
    }
   ],
   "source": [
    "#Load necessary libraries\n",
    "import pylab\n",
    "%pylab inline\n",
    "import numpy as np\n",
    "import pandas as pd\n",
    "import matplotlib as plt\n",
    "from sklearn.linear_model import LinearRegression\n",
    "from sklearn.model_selection import train_test_split\n",
    "from sklearn import metrics\n"
   ]
  },
  {
   "cell_type": "code",
   "execution_count": 2,
   "metadata": {
    "collapsed": true
   },
   "outputs": [],
   "source": [
    "#load dataset in pandas\n",
    "df= pd.read_csv(\"/Users/Umar Ibn Ali/Desktop/FYP/Model/Yemen_dataset.csv\")"
   ]
  },
  {
   "cell_type": "code",
   "execution_count": 3,
   "metadata": {},
   "outputs": [
    {
     "data": {
      "text/html": [
       "<div>\n",
       "<style>\n",
       "    .dataframe thead tr:only-child th {\n",
       "        text-align: right;\n",
       "    }\n",
       "\n",
       "    .dataframe thead th {\n",
       "        text-align: left;\n",
       "    }\n",
       "\n",
       "    .dataframe tbody tr th {\n",
       "        vertical-align: top;\n",
       "    }\n",
       "</style>\n",
       "<table border=\"1\" class=\"dataframe\">\n",
       "  <thead>\n",
       "    <tr style=\"text-align: right;\">\n",
       "      <th></th>\n",
       "      <th>Year</th>\n",
       "      <th>GPI</th>\n",
       "      <th>GDP</th>\n",
       "      <th>No of country</th>\n",
       "      <th>Density</th>\n",
       "      <th>Population</th>\n",
       "    </tr>\n",
       "  </thead>\n",
       "  <tbody>\n",
       "    <tr>\n",
       "      <th>0</th>\n",
       "      <td>1991</td>\n",
       "      <td>NaN</td>\n",
       "      <td>1158</td>\n",
       "      <td>4</td>\n",
       "      <td>24.0</td>\n",
       "      <td>29977</td>\n",
       "    </tr>\n",
       "    <tr>\n",
       "      <th>1</th>\n",
       "      <td>1992</td>\n",
       "      <td>NaN</td>\n",
       "      <td>1351</td>\n",
       "      <td>3</td>\n",
       "      <td>25.2</td>\n",
       "      <td>59680</td>\n",
       "    </tr>\n",
       "    <tr>\n",
       "      <th>2</th>\n",
       "      <td>1993</td>\n",
       "      <td>NaN</td>\n",
       "      <td>1558</td>\n",
       "      <td>3</td>\n",
       "      <td>26.5</td>\n",
       "      <td>54450</td>\n",
       "    </tr>\n",
       "    <tr>\n",
       "      <th>3</th>\n",
       "      <td>1994</td>\n",
       "      <td>NaN</td>\n",
       "      <td>1919</td>\n",
       "      <td>7</td>\n",
       "      <td>27.8</td>\n",
       "      <td>48306</td>\n",
       "    </tr>\n",
       "    <tr>\n",
       "      <th>4</th>\n",
       "      <td>1995</td>\n",
       "      <td>NaN</td>\n",
       "      <td>841</td>\n",
       "      <td>6</td>\n",
       "      <td>29.0</td>\n",
       "      <td>53453</td>\n",
       "    </tr>\n",
       "  </tbody>\n",
       "</table>\n",
       "</div>"
      ],
      "text/plain": [
       "   Year  GPI   GDP  No of country  Density  Population\n",
       "0  1991  NaN  1158              4     24.0       29977\n",
       "1  1992  NaN  1351              3     25.2       59680\n",
       "2  1993  NaN  1558              3     26.5       54450\n",
       "3  1994  NaN  1919              7     27.8       48306\n",
       "4  1995  NaN   841              6     29.0       53453"
      ]
     },
     "execution_count": 3,
     "metadata": {},
     "output_type": "execute_result"
    }
   ],
   "source": [
    "#check dataset\n",
    "df.head()"
   ]
  },
  {
   "cell_type": "code",
   "execution_count": 4,
   "metadata": {},
   "outputs": [
    {
     "data": {
      "text/html": [
       "<div>\n",
       "<style>\n",
       "    .dataframe thead tr:only-child th {\n",
       "        text-align: right;\n",
       "    }\n",
       "\n",
       "    .dataframe thead th {\n",
       "        text-align: left;\n",
       "    }\n",
       "\n",
       "    .dataframe tbody tr th {\n",
       "        vertical-align: top;\n",
       "    }\n",
       "</style>\n",
       "<table border=\"1\" class=\"dataframe\">\n",
       "  <thead>\n",
       "    <tr style=\"text-align: right;\">\n",
       "      <th></th>\n",
       "      <th>Year</th>\n",
       "      <th>GPI</th>\n",
       "      <th>GDP</th>\n",
       "      <th>No of country</th>\n",
       "      <th>Density</th>\n",
       "      <th>Population</th>\n",
       "    </tr>\n",
       "  </thead>\n",
       "  <tbody>\n",
       "    <tr>\n",
       "      <th>count</th>\n",
       "      <td>26.000000</td>\n",
       "      <td>9.000000</td>\n",
       "      <td>26.000000</td>\n",
       "      <td>26.000000</td>\n",
       "      <td>26.000000</td>\n",
       "      <td>26.000000</td>\n",
       "    </tr>\n",
       "    <tr>\n",
       "      <th>mean</th>\n",
       "      <td>2003.500000</td>\n",
       "      <td>2.678889</td>\n",
       "      <td>983.269231</td>\n",
       "      <td>13.653846</td>\n",
       "      <td>37.811538</td>\n",
       "      <td>118744.192308</td>\n",
       "    </tr>\n",
       "    <tr>\n",
       "      <th>std</th>\n",
       "      <td>7.648529</td>\n",
       "      <td>0.304816</td>\n",
       "      <td>433.426031</td>\n",
       "      <td>5.775412</td>\n",
       "      <td>8.374644</td>\n",
       "      <td>81815.347213</td>\n",
       "    </tr>\n",
       "    <tr>\n",
       "      <th>min</th>\n",
       "      <td>1991.000000</td>\n",
       "      <td>2.324000</td>\n",
       "      <td>375.000000</td>\n",
       "      <td>3.000000</td>\n",
       "      <td>24.000000</td>\n",
       "      <td>29977.000000</td>\n",
       "    </tr>\n",
       "    <tr>\n",
       "      <th>25%</th>\n",
       "      <td>1997.250000</td>\n",
       "      <td>2.573000</td>\n",
       "      <td>569.500000</td>\n",
       "      <td>10.500000</td>\n",
       "      <td>31.325000</td>\n",
       "      <td>59879.250000</td>\n",
       "    </tr>\n",
       "    <tr>\n",
       "      <th>50%</th>\n",
       "      <td>2003.500000</td>\n",
       "      <td>2.629000</td>\n",
       "      <td>954.500000</td>\n",
       "      <td>16.000000</td>\n",
       "      <td>37.400000</td>\n",
       "      <td>75702.500000</td>\n",
       "    </tr>\n",
       "    <tr>\n",
       "      <th>75%</th>\n",
       "      <td>2009.750000</td>\n",
       "      <td>2.747000</td>\n",
       "      <td>1326.000000</td>\n",
       "      <td>17.000000</td>\n",
       "      <td>44.400000</td>\n",
       "      <td>185282.500000</td>\n",
       "    </tr>\n",
       "    <tr>\n",
       "      <th>max</th>\n",
       "      <td>2016.000000</td>\n",
       "      <td>3.399000</td>\n",
       "      <td>1919.000000</td>\n",
       "      <td>23.000000</td>\n",
       "      <td>52.200000</td>\n",
       "      <td>269796.000000</td>\n",
       "    </tr>\n",
       "  </tbody>\n",
       "</table>\n",
       "</div>"
      ],
      "text/plain": [
       "              Year       GPI          GDP  No of country    Density  \\\n",
       "count    26.000000  9.000000    26.000000      26.000000  26.000000   \n",
       "mean   2003.500000  2.678889   983.269231      13.653846  37.811538   \n",
       "std       7.648529  0.304816   433.426031       5.775412   8.374644   \n",
       "min    1991.000000  2.324000   375.000000       3.000000  24.000000   \n",
       "25%    1997.250000  2.573000   569.500000      10.500000  31.325000   \n",
       "50%    2003.500000  2.629000   954.500000      16.000000  37.400000   \n",
       "75%    2009.750000  2.747000  1326.000000      17.000000  44.400000   \n",
       "max    2016.000000  3.399000  1919.000000      23.000000  52.200000   \n",
       "\n",
       "          Population  \n",
       "count      26.000000  \n",
       "mean   118744.192308  \n",
       "std     81815.347213  \n",
       "min     29977.000000  \n",
       "25%     59879.250000  \n",
       "50%     75702.500000  \n",
       "75%    185282.500000  \n",
       "max    269796.000000  "
      ]
     },
     "execution_count": 4,
     "metadata": {},
     "output_type": "execute_result"
    }
   ],
   "source": [
    "df.describe()"
   ]
  },
  {
   "cell_type": "code",
   "execution_count": 5,
   "metadata": {
    "collapsed": true
   },
   "outputs": [],
   "source": [
    "#fill column with missing values\n",
    "df['GPI'].fillna(mean(df.GPI),inplace=True)\n"
   ]
  },
  {
   "cell_type": "code",
   "execution_count": 6,
   "metadata": {},
   "outputs": [
    {
     "data": {
      "text/plain": [
       "Year             0\n",
       "GPI              0\n",
       "GDP              0\n",
       "No of country    0\n",
       "Density          0\n",
       "Population       0\n",
       "dtype: int64"
      ]
     },
     "execution_count": 6,
     "metadata": {},
     "output_type": "execute_result"
    }
   ],
   "source": [
    "#check the columns with missing values\n",
    "df.apply(lambda x: sum(x.isnull()),axis=0)"
   ]
  },
  {
   "cell_type": "code",
   "execution_count": 7,
   "metadata": {},
   "outputs": [
    {
     "data": {
      "text/plain": [
       "<matplotlib.axes._subplots.AxesSubplot at 0x293c925d630>"
      ]
     },
     "execution_count": 7,
     "metadata": {},
     "output_type": "execute_result"
    },
    {
     "data": {
      "image/png": "[encoded data removed]",
      "text/plain": [
       "<matplotlib.figure.Figure at 0x293c9212d30>"
      ]
     },
     "metadata": {},
     "output_type": "display_data"
    }
   ],
   "source": [
    "#check population histogram\n",
    "df['Population'].hist(bins=25)"
   ]
  },
  {
   "cell_type": "code",
   "execution_count": 8,
   "metadata": {},
   "outputs": [
    {
     "data": {
      "image/png": "[encoded data removed]",
      "text/plain": [
       "<matplotlib.figure.Figure at 0x293c9212a90>"
      ]
     },
     "metadata": {},
     "output_type": "display_data"
    }
   ],
   "source": [
    "#check relationship between GDP and Population\n",
    "import matplotlib.pyplot as plt\n",
    "plt.scatter(df['GDP'], df['Population'])\n",
    "plt.show() "
   ]
  },
  {
   "cell_type": "code",
   "execution_count": 9,
   "metadata": {},
   "outputs": [
    {
     "data": {
      "image/png": "[encoded data removed]",
      "text/plain": [
       "<matplotlib.figure.Figure at 0x293c96d0d30>"
      ]
     },
     "metadata": {},
     "output_type": "display_data"
    }
   ],
   "source": [
    "#check relationship between Density and Population\n",
    "import matplotlib.pyplot as plt\n",
    "plt.scatter(df['Density'], df['Population'])\n",
    "plt.show() "
   ]
  },
  {
   "cell_type": "code",
   "execution_count": 10,
   "metadata": {},
   "outputs": [
    {
     "data": {
      "image/png": "[encoded data removed]",
      "text/plain": [
       "<matplotlib.figure.Figure at 0x293c973c3c8>"
      ]
     },
     "metadata": {},
     "output_type": "display_data"
    }
   ],
   "source": [
    "#check relationship between No of country and Population\n",
    "plt.scatter(df['No of country'], df['Population'])\n",
    "plt.show() "
   ]
  },
  {
   "cell_type": "code",
   "execution_count": 11,
   "metadata": {},
   "outputs": [
    {
     "data": {
      "image/png": "[encoded data removed]",
      "text/plain": [
       "<matplotlib.figure.Figure at 0x293c96e4cc0>"
      ]
     },
     "metadata": {},
     "output_type": "display_data"
    }
   ],
   "source": [
    "#check relationship between GPI and Population\n",
    "plt.scatter(df['GPI'], df['Population'])\n",
    "plt.show() "
   ]
  },
  {
   "cell_type": "code",
   "execution_count": 12,
   "metadata": {},
   "outputs": [
    {
     "name": "stdout",
     "output_type": "stream",
     "text": [
      "Intercept:  29947.2792364\n",
      "Coefficient:  [ 90.30783258]\n",
      "R squared value:  0.228881802604\n"
     ]
    }
   ],
   "source": [
    "#check GDP and Population linear relationship\n",
    "feature_cols = ['GDP']\n",
    "X = df[feature_cols]\n",
    "y = df.Population\n",
    "lm = LinearRegression()\n",
    "lm.fit(X, y)\n",
    "\n",
    "# print the coefficients\n",
    "print(\"Intercept: \",lm.intercept_)\n",
    "print(\"Coefficient: \",lm.coef_)\n",
    "\n",
    "#check R squared value\n",
    "print(\"R squared value: \",lm.score(X, y))"
   ]
  },
  {
   "cell_type": "code",
   "execution_count": 13,
   "metadata": {},
   "outputs": [
    {
     "name": "stdout",
     "output_type": "stream",
     "text": [
      "Intercept:  -223492.254031\n",
      "Coefficient:  [ 9051.11138726]\n",
      "R squared value:  0.858355054709\n"
     ]
    }
   ],
   "source": [
    "#check Density and Population linear relationship\n",
    "feature_cols = ['Density']\n",
    "X = df[feature_cols]\n",
    "y = df.Population\n",
    "lm = LinearRegression()\n",
    "lm.fit(X, y)\n",
    "\n",
    "# print the coefficients\n",
    "print(\"Intercept: \",lm.intercept_)\n",
    "print(\"Coefficient: \",lm.coef_)\n",
    "\n",
    "#check R squared value\n",
    "print(\"R squared value: \",lm.score(X, y))"
   ]
  },
  {
   "cell_type": "code",
   "execution_count": 14,
   "metadata": {},
   "outputs": [
    {
     "name": "stdout",
     "output_type": "stream",
     "text": [
      "Intercept:  -30550.0782252\n",
      "Coefficient:  [ 10934.22826438]\n",
      "R squared value:  0.595761822301\n"
     ]
    }
   ],
   "source": [
    "#check No of Country and Population linear relationship\n",
    "feature_cols = ['No of country']\n",
    "X = df[feature_cols]\n",
    "y = df.Population\n",
    "lm = LinearRegression()\n",
    "lm.fit(X, y)\n",
    "\n",
    "# print the coefficients\n",
    "print(\"Intercept: \",lm.intercept_)\n",
    "print(\"Coefficient: \",lm.coef_)\n",
    "\n",
    "#check R squared value\n",
    "print(\"R squared value: \",lm.score(X, y))"
   ]
  },
  {
   "cell_type": "code",
   "execution_count": 15,
   "metadata": {},
   "outputs": [
    {
     "name": "stdout",
     "output_type": "stream",
     "text": [
      "Intercept:  -176637.743236\n",
      "Coefficient:  [ 110262.85441287]\n",
      "R squared value:  0.0540026060514\n"
     ]
    }
   ],
   "source": [
    "#check GPI and Population linear relationship\n",
    "feature_cols = ['GPI']\n",
    "X = df[feature_cols]\n",
    "y = df.Population\n",
    "lm = LinearRegression()\n",
    "lm.fit(X, y)\n",
    "\n",
    "# print the coefficients\n",
    "print(\"Intercept: \",lm.intercept_)\n",
    "print(\"Coefficient: \",lm.coef_)\n",
    "\n",
    "#check R squared value\n",
    "print(\"R squared value: \",lm.score(X, y))"
   ]
  },
  {
   "cell_type": "code",
   "execution_count": 16,
   "metadata": {},
   "outputs": [
    {
     "name": "stdout",
     "output_type": "stream",
     "text": [
      "RMSE Score:  15662.2997192\n",
      "MAE Score:  11979.7374032\n",
      "MSE Score:  245307632.493\n",
      "R squared value:  0.950691074171\n"
     ]
    }
   ],
   "source": [
    "# include all variables to build a model\n",
    "X = df[['GDP', 'Density', 'No of country','GPI']]\n",
    "y = df.Population\n",
    "\n",
    "# Split data\n",
    "X_train, X_test, y_train, y_test = train_test_split(X, y,test_size = 0.25, random_state=0)\n",
    "\n",
    "# Instantiate model\n",
    "lm2 = LinearRegression()\n",
    "\n",
    "# Fit Model\n",
    "lm2.fit(X_train, y_train)\n",
    "\n",
    "# Predict\n",
    "y_pred = lm2.predict(X_test)\n",
    "\n",
    "# RMSE-Root Mean Squared Error\n",
    "print(\"RMSE Score: \",np.sqrt(metrics.mean_squared_error(y_test, y_pred)))\n",
    "\n",
    "#MAE is the mean of the absolute value of the errors:\n",
    "print(\"MAE Score: \",metrics.mean_absolute_error(y_test, y_pred))\n",
    "\n",
    "#MSE is the mean of the squared errors:\n",
    "print(\"MSE Score: \",metrics.mean_squared_error(y_test, y_pred))\n",
    "\n",
    "#check R squared value\n",
    "print(\"R squared value: \",lm2.score(X,y))"
   ]
  },
  {
   "cell_type": "code",
   "execution_count": 17,
   "metadata": {},
   "outputs": [
    {
     "name": "stdout",
     "output_type": "stream",
     "text": [
      "RMSE Score:  20522.2346998\n",
      "MAE Score:  18091.3620569\n",
      "MSE Score:  421162117.075\n",
      "R squared value:  0.92525763031\n"
     ]
    }
   ],
   "source": [
    "# include all variables to build a model\n",
    "X = df[['Density', 'No of country']]\n",
    "y = df.Population\n",
    "\n",
    "# Split data\n",
    "X_train, X_test, y_train, y_test = train_test_split(X, y,test_size = 0.25, random_state=0)\n",
    "\n",
    "# Instantiate model\n",
    "lm2 = LinearRegression()\n",
    "\n",
    "# Fit Model\n",
    "lm2.fit(X_train, y_train)\n",
    "\n",
    "# Predict\n",
    "y_pred = lm2.predict(X_test)\n",
    "\n",
    "# RMSE-Root Mean Squared Error\n",
    "print(\"RMSE Score: \",np.sqrt(metrics.mean_squared_error(y_test, y_pred)))\n",
    "\n",
    "#MAE is the mean of the absolute value of the errors:\n",
    "print(\"MAE Score: \",metrics.mean_absolute_error(y_test, y_pred))\n",
    "\n",
    "#MSE is the mean of the squared errors:\n",
    "print(\"MSE Score: \",metrics.mean_squared_error(y_test, y_pred))\n",
    "\n",
    "#check R squared value\n",
    "print(\"R squared value: \",lm2.score(X,y))"
   ]
  },
  {
   "cell_type": "code",
   "execution_count": 18,
   "metadata": {},
   "outputs": [
    {
     "name": "stdout",
     "output_type": "stream",
     "text": [
      "RMSE Score:  17453.7787734\n",
      "MAE Score:  13908.5163861\n",
      "MSE Score:  304634393.47\n",
      "R squared value:  0.943434828594\n"
     ]
    }
   ],
   "source": [
    "# include 3 variables to build a model\n",
    "X = df[['GDP', 'Density', 'No of country']]\n",
    "y = df.Population\n",
    "\n",
    "# Split data\n",
    "X_train, X_test, y_train, y_test = train_test_split(X, y,test_size = 0.25, random_state=0)\n",
    "\n",
    "# Instantiate model\n",
    "lm2 = LinearRegression()\n",
    "\n",
    "# Fit Model\n",
    "lm2.fit(X_train, y_train)\n",
    "\n",
    "# Predict\n",
    "y_pred = lm2.predict(X_test)\n",
    "\n",
    "# RMSE-Root Mean Squared Error\n",
    "print(\"RMSE Score: \",np.sqrt(metrics.mean_squared_error(y_test, y_pred)))\n",
    "\n",
    "#MAE is the mean of the absolute value of the errors:\n",
    "print(\"MAE Score: \",metrics.mean_absolute_error(y_test, y_pred))\n",
    "\n",
    "#MSE is the mean of the squared errors:\n",
    "print(\"MSE Score: \",metrics.mean_squared_error(y_test, y_pred))\n",
    "\n",
    "#check R squared value\n",
    "print(\"R squared value: \",lm2.score(X,y))"
   ]
  },
  {
   "cell_type": "code",
   "execution_count": 19,
   "metadata": {},
   "outputs": [
    {
     "name": "stdout",
     "output_type": "stream",
     "text": [
      "R squared value:  0.0572883649378\n",
      "Predicted GDP for year:  2017 [[ 1168.57251603]]\n",
      "Predicted GDP for year:  2018 [[ 1181.67942041]]\n",
      "Predicted GDP for year:  2019 [[ 1194.78632479]]\n",
      "Predicted GDP for year:  2020 [[ 1207.89322917]]\n",
      "Predicted GDP for year:  2021 [[ 1221.00013355]]\n",
      "Predicted GDP for year:  2022 [[ 1234.10703793]]\n"
     ]
    },
    {
     "data": {
      "text/plain": [
       "array([[ 1155.46561165]])"
      ]
     },
     "execution_count": 19,
     "metadata": {},
     "output_type": "execute_result"
    }
   ],
   "source": [
    "#predict the GDP for future using a linear model with Year\n",
    "from sklearn import linear_model\n",
    "X = df[['Year']]\n",
    "y = df[['GDP']]\n",
    "\n",
    "# Split data\n",
    "X_train, X_test, y_train, y_test = train_test_split(X, y,test_size = 0.33, random_state=42)\n",
    "\n",
    "# Instantiate model\n",
    "lm2 = LinearRegression()\n",
    "\n",
    "# Fit Model\n",
    "lm2.fit(X_train, y_train)\n",
    "\n",
    "#R squared value\n",
    "print(\"R squared value: \",lm2.score(X,y))\n",
    "\n",
    "# Predict\n",
    "pred_Den = [0,0,0,0,0,0]\n",
    "for i in range (0,6):\n",
    "    pred_Den[i] = lm2.predict(2017+i)\n",
    "\n",
    "for i in range(0,6):\n",
    "    print(\"Predicted GDP for year: \",(2017+i),pred_Den[i])\n",
    "lm2.predict(2016)      "
   ]
  },
  {
   "cell_type": "code",
   "execution_count": 20,
   "metadata": {},
   "outputs": [
    {
     "name": "stdout",
     "output_type": "stream",
     "text": [
      "R squared value:  0.997970735571\n",
      "Predicted Density for year:  2017 [[ 52.6865905]]\n",
      "Predicted Density for year:  2018 [[ 53.78637981]]\n",
      "Predicted Density for year:  2019 [[ 54.88616912]]\n",
      "Predicted Density for year:  2020 [[ 55.98595842]]\n",
      "Predicted Density for year:  2021 [[ 57.08574773]]\n",
      "Predicted Density for year:  2022 [[ 58.18553704]]\n"
     ]
    },
    {
     "data": {
      "text/plain": [
       "array([[ 51.5868012]])"
      ]
     },
     "execution_count": 20,
     "metadata": {},
     "output_type": "execute_result"
    }
   ],
   "source": [
    "#predict the Density for future using a linear model with Year\n",
    "from sklearn import linear_model\n",
    "X = df[['Year']]\n",
    "y = df[['Density']]\n",
    "\n",
    "# Split data\n",
    "X_train, X_test, y_train, y_test = train_test_split(X, y,test_size = 0.25, random_state=0)\n",
    "\n",
    "# Instantiate model\n",
    "lm2 = LinearRegression()\n",
    "\n",
    "# Fit Model\n",
    "lm2.fit(X_train, y_train)\n",
    "\n",
    "#R squared value\n",
    "print(\"R squared value: \",lm2.score(X,y))\n",
    "\n",
    "# Predict\n",
    "pred_Den = [0,0,0,0,0,0]\n",
    "for i in range (0,6):\n",
    "    pred_Den[i] = lm2.predict(2017+i)\n",
    "\n",
    "for i in range(0,6):\n",
    "    print(\"Predicted Density for year: \",(2017+i),pred_Den[i])\n",
    "lm2.predict(2016)      "
   ]
  },
  {
   "cell_type": "code",
   "execution_count": 21,
   "metadata": {},
   "outputs": [
    {
     "name": "stdout",
     "output_type": "stream",
     "text": [
      "R squared value:  0.880237165967\n",
      "Predicted No of country for year:  2017 [[ 23.34881543]]\n",
      "Predicted No of country for year:  2018 [[ 24.04738271]]\n",
      "Predicted No of country for year:  2019 [[ 24.74595]]\n",
      "Predicted No of country for year:  2020 [[ 25.44451728]]\n",
      "Predicted No of country for year:  2021 [[ 26.14308456]]\n",
      "Predicted No of country for year:  2022 [[ 26.84165184]]\n"
     ]
    },
    {
     "data": {
      "text/plain": [
       "array([[ 22.65024815]])"
      ]
     },
     "execution_count": 21,
     "metadata": {},
     "output_type": "execute_result"
    }
   ],
   "source": [
    "#predict the No of Country for future using a linear model with Year\n",
    "from sklearn import linear_model\n",
    "X = df[['Year']]\n",
    "y = df[['No of country']]\n",
    "\n",
    "# Split data\n",
    "X_train, X_test, y_train, y_test = train_test_split(X, y,test_size = 0.25, random_state=0)\n",
    "\n",
    "# Instantiate model\n",
    "lm2 = LinearRegression()\n",
    "\n",
    "# Fit Model\n",
    "lm2.fit(X_train, y_train)\n",
    "\n",
    "#R squared value\n",
    "print(\"R squared value: \",lm2.score(X,y))\n",
    "\n",
    "# Predict\n",
    "pred_Den = [0,0,0,0,0,0]\n",
    "for i in range (0,6):\n",
    "    pred_Den[i] = lm2.predict(2017+i)\n",
    "\n",
    "for i in range(0,6):\n",
    "    print(\"Predicted No of country for year: \",(2017+i),pred_Den[i])\n",
    "lm2.predict(2016)      "
   ]
  },
  {
   "cell_type": "code",
   "execution_count": 22,
   "metadata": {},
   "outputs": [
    {
     "name": "stdout",
     "output_type": "stream",
     "text": [
      "Predicted Population for year 2017:  [ 253711.23676041]\n",
      "Predicted Population for year 2018:  [ 263719.30414965]\n",
      "Predicted Population for year 2019:  [ 273727.37141963]\n",
      "Predicted Population for year 2020:  [ 283735.43864212]\n",
      "Predicted Population for year 2021:  [ 293743.50603137]\n",
      "Predicted Population for year 2022:  [ 303751.57342061]\n"
     ]
    }
   ],
   "source": [
    "# Forecasted Population of Yemen\n",
    "X = df[['Density','No of country']]\n",
    "y = df.Population\n",
    "\n",
    "# Split data\n",
    "X_train, X_test, y_train, y_test = train_test_split(X, y,test_size = 0.25, random_state=0)\n",
    "\n",
    "# Instantiate model\n",
    "lm2 = LinearRegression()\n",
    "\n",
    "# Fit Model\n",
    "lm2.fit(X_train, y_train)\n",
    "\n",
    "# Predict\n",
    "y_pred = lm2.predict(X_test)\n",
    "    \n",
    "\n",
    "    \n",
    "var_2017 = [[52.6865905,23.34881543]]\n",
    "var_2018 = [[53.78637981,24.04738271]]\n",
    "var_2019 = [[54.88616912,24.74595]]                               \n",
    "var_2020 = [[55.98595842,25.44451728]]\n",
    "var_2021 = [[57.08574773, 26.14308456]]\n",
    "var_2022 = [[58.18553704,26.84165184]]\n",
    "\n",
    "print(\"Predicted Population for year 2017: \",lm2.predict(var_2017))\n",
    "print(\"Predicted Population for year 2018: \",lm2.predict(var_2018))\n",
    "print(\"Predicted Population for year 2019: \",lm2.predict(var_2019))\n",
    "print(\"Predicted Population for year 2020: \",lm2.predict(var_2020))\n",
    "print(\"Predicted Population for year 2021: \",lm2.predict(var_2021))\n",
    "print(\"Predicted Population for year 2022: \",lm2.predict(var_2022))\n",
    "\n"
   ]
  },
  {
   "cell_type": "code",
   "execution_count": 23,
   "metadata": {},
   "outputs": [
    {
     "data": {
      "text/plain": [
       "array([ 243703.16953792])"
      ]
     },
     "execution_count": 23,
     "metadata": {},
     "output_type": "execute_result"
    }
   ],
   "source": [
    "lm2.predict([[51.5868012,22.65024815]])"
   ]
  },
  {
   "cell_type": "code",
   "execution_count": null,
   "metadata": {
    "collapsed": true
   },
   "outputs": [],
   "source": []
  }
 ],
 "metadata": {
  "kernelspec": {
   "display_name": "Python 3",
   "language": "python",
   "name": "python3"
  },
  "language_info": {
   "codemirror_mode": {
    "name": "ipython",
    "version": 3
   },
   "file_extension": ".py",
   "mimetype": "text/x-python",
   "name": "python",
   "nbconvert_exporter": "python",
   "pygments_lexer": "ipython3",
   "version": "3.6.3"
  }
 },
 "nbformat": 4,
 "nbformat_minor": 2
}
